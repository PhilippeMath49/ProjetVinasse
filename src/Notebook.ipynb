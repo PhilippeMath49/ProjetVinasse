{
 "cells": [
  {
   "cell_type": "markdown",
   "metadata": {},
   "source": [
    "# Projet Vinasse\n",
    "## Introduction\n",
    "Ce notebook a pour objectif de vous présenter notre analyse de données sur des datasets liés au vin.\n",
    "L'objectif principal de ce projet est donc de réaliser une analyse exploratoire des données. Ce notebook présente chaque étape du processus, tout en fournissant des visualisations détaillées pour faciliter la compréhension des résultats.\n",
    "\n",
    "## Jeux de données\n",
    "Afin de réaliser cette analyse, nous avons sélectionné différents datasets :\n",
    "\n",
    "\"winemag.csv\" qui provient de Kaggle (https://www.kaggle.com/datasets/mysarahmadbhat/wine-tasting).\n",
    "Ce fichier CSV contient les prix et les notations de nombreux vins à travers le monde.\n",
    "\n",
    "\"wine-production.csv\" qui provient de \"Food and Agriculture Organization of the United Nations (2023)\" – avec un traitement majeur par Our World in Data.\n",
    "Ce fichier CSV contient les productions de vin par année dans différentes régions.\n",
    "\n",
    "## Structure du notebook \n",
    "\n",
    "A completer en fin de projet\n"
   ]
  },
  {
   "cell_type": "code",
   "execution_count": null,
   "metadata": {},
   "outputs": [],
   "source": [
    "!pip install -r requirements.txt"
   ]
  },
  {
   "cell_type": "code",
   "execution_count": 2,
   "metadata": {},
   "outputs": [],
   "source": [
    "import pandas as pd\n",
    "import numpy as np\n",
    "import matplotlib.pyplot as plt\n",
    "import seaborn as sns"
   ]
  },
  {
   "cell_type": "code",
   "execution_count": 4,
   "metadata": {},
   "outputs": [],
   "source": [
    "%matplotlib inline\n",
    "file_path = \"data/winemag.csv\"  # Modifier avec le chemin correct\n",
    "df = pd.read_csv(file_path)"
   ]
  },
  {
   "cell_type": "markdown",
   "metadata": {},
   "source": []
  },
  {
   "cell_type": "code",
   "execution_count": null,
   "metadata": {},
   "outputs": [],
   "source": [
    "df.head()"
   ]
  },
  {
   "cell_type": "code",
   "execution_count": null,
   "metadata": {},
   "outputs": [],
   "source": [
    "df.info()"
   ]
  },
  {
   "cell_type": "code",
   "execution_count": null,
   "metadata": {},
   "outputs": [],
   "source": [
    "missing_values = df.isnull().sum()\n",
    "print(\"Valeurs manquantes par colonne :\\n\", missing_values)"
   ]
  },
  {
   "cell_type": "code",
   "execution_count": null,
   "metadata": {},
   "outputs": [],
   "source": [
    "df.describe()"
   ]
  },
  {
   "cell_type": "code",
   "execution_count": null,
   "metadata": {},
   "outputs": [],
   "source": [
    "duplicates = df.duplicated().sum()\n",
    "print(f\"Nombre de doublons : {duplicates}\")"
   ]
  },
  {
   "cell_type": "code",
   "execution_count": null,
   "metadata": {},
   "outputs": [],
   "source": [
    "plt.figure(figsize=(8,5))\n",
    "sns.histplot(df[\"points\"], bins=20, kde=True, color=\"blue\")\n",
    "plt.title(\"Distribution des scores des vins\")\n",
    "plt.xlabel(\"Points\")\n",
    "plt.ylabel(\"Fréquence\")\n",
    "plt.show()"
   ]
  },
  {
   "cell_type": "code",
   "execution_count": null,
   "metadata": {},
   "outputs": [],
   "source": [
    "plt.figure(figsize=(8,5))\n",
    "sns.boxplot(x=df[\"price\"])\n",
    "plt.xlim(0, df[\"price\"].quantile(0.95))  # Limite pour exclure les valeurs extrêmes\n",
    "plt.title(\"Distribution des prix des vins\")\n",
    "plt.show()"
   ]
  },
  {
   "cell_type": "code",
   "execution_count": null,
   "metadata": {},
   "outputs": [],
   "source": [
    "top_countries = df[\"country\"].value_counts().head(10)\n",
    "plt.figure(figsize=(10,5))\n",
    "sns.barplot(x=top_countries.index, y=top_countries.values, palette=\"viridis\")\n",
    "plt.title(\"Top 10 des pays avec le plus de vins\")\n",
    "plt.ylabel(\"Nombre de vins\")\n",
    "plt.xticks(rotation=45)\n",
    "plt.show()"
   ]
  },
  {
   "cell_type": "code",
   "execution_count": null,
   "metadata": {},
   "outputs": [],
   "source": [
    "avg_price_country = df.groupby(\"country\")[\"price\"].mean().sort_values(ascending=False).head(10)\n",
    "plt.figure(figsize=(10,5))\n",
    "sns.barplot(x=avg_price_country.index, y=avg_price_country.values, palette=\"coolwarm\")\n",
    "plt.title(\"Prix moyen des vins par pays (Top 10)\")\n",
    "plt.ylabel(\"Prix moyen ($)\")\n",
    "plt.xticks(rotation=45)\n",
    "plt.show()"
   ]
  },
  {
   "cell_type": "code",
   "execution_count": null,
   "metadata": {},
   "outputs": [],
   "source": [
    "top_varieties = df[\"variety\"].value_counts().head(10)\n",
    "plt.figure(figsize=(10,5))\n",
    "sns.barplot(x=top_varieties.index, y=top_varieties.values, palette=\"magma\")\n",
    "plt.title(\"Top 10 des variétés de vin les plus populaires\")\n",
    "plt.ylabel(\"Nombre de vins\")\n",
    "plt.xticks(rotation=45)\n",
    "plt.show()"
   ]
  },
  {
   "cell_type": "code",
   "execution_count": null,
   "metadata": {},
   "outputs": [],
   "source": [
    "# Select only numerical columns\n",
    "numerical_df = df.select_dtypes(include=[np.number])\n",
    "\n",
    "plt.figure(figsize=(8,6))\n",
    "sns.heatmap(numerical_df.corr(), annot=True, cmap=\"coolwarm\", linewidths=0.5)\n",
    "plt.title(\"Matrice de corrélation\")\n",
    "plt.show()"
   ]
  },
  {
   "cell_type": "code",
   "execution_count": null,
   "metadata": {},
   "outputs": [],
   "source": [
    "plt.figure(figsize=(8,5))\n",
    "sns.scatterplot(x=df[\"price\"], y=df[\"points\"], alpha=0.5)\n",
    "plt.xlim(0, df[\"price\"].quantile(0.95))  # Exclure les valeurs extrêmes\n",
    "plt.title(\"Relation entre le prix et le score du vin\")\n",
    "plt.xlabel(\"Prix ($)\")\n",
    "plt.ylabel(\"Points\")\n",
    "plt.show()"
   ]
  }
 ],
 "metadata": {
  "kernelspec": {
   "display_name": "Python 3",
   "language": "python",
   "name": "python3"
  },
  "language_info": {
   "codemirror_mode": {
    "name": "ipython",
    "version": 3
   },
   "file_extension": ".py",
   "mimetype": "text/x-python",
   "name": "python",
   "nbconvert_exporter": "python",
   "pygments_lexer": "ipython3",
   "version": "3.12.3"
  }
 },
 "nbformat": 4,
 "nbformat_minor": 2
}
