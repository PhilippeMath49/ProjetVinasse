{
 "cells": [
  {
   "cell_type": "code",
   "execution_count": null,
   "metadata": {},
   "outputs": [],
   "source": [
    "!pip install -r requirements.txt"
   ]
  },
  {
   "cell_type": "code",
   "execution_count": null,
   "metadata": {},
<<<<<<< Updated upstream
=======
   "outputs": [],
   "source": [
    "%pip install -r requirements.txt"
   ]
  },
  {
   "cell_type": "code",
   "execution_count": null,
   "metadata": {},
>>>>>>> Stashed changes
   "outputs": [],
   "source": [
    "import pandas as pd\n",
    "import numpy as np\n",
    "import matplotlib.pyplot as plt\n",
    "import seaborn as sns"
   ]
  },
  {
   "cell_type": "code",
<<<<<<< Updated upstream
   "execution_count": 4,
=======
   "execution_count": null,
>>>>>>> Stashed changes
   "metadata": {},
   "outputs": [],
   "source": [
    "%matplotlib inline\n",
    "file_path = \"data/winemag.csv\"  # Modifier avec le chemin correct\n",
    "df = pd.read_csv(file_path)"
   ]
  },
  {
   "cell_type": "code",
   "execution_count": null,
   "metadata": {},
   "outputs": [],
   "source": [
    "df.head()"
   ]
  },
  {
   "cell_type": "code",
   "execution_count": null,
   "metadata": {},
   "outputs": [],
   "source": [
    "df.info()"
   ]
  },
  {
   "cell_type": "code",
   "execution_count": null,
   "metadata": {},
   "outputs": [],
   "source": [
    "missing_values = df.isnull().sum()\n",
    "print(\"Valeurs manquantes par colonne :\\n\", missing_values)"
   ]
  },
  {
   "cell_type": "code",
   "execution_count": null,
   "metadata": {},
   "outputs": [],
   "source": [
    "df.describe()"
   ]
  },
  {
   "cell_type": "code",
   "execution_count": null,
   "metadata": {},
   "outputs": [],
   "source": [
    "duplicates = df.duplicated().sum()\n",
    "print(f\"Nombre de doublons : {duplicates}\")"
   ]
  },
  {
   "cell_type": "code",
   "execution_count": null,
   "metadata": {},
   "outputs": [],
   "source": [
<<<<<<< Updated upstream
    "plt.figure(figsize=(8,5))\n",
    "sns.histplot(df[\"points\"], bins=20, kde=True, color=\"blue\")\n",
    "plt.title(\"Distribution des scores des vins\")\n",
    "plt.xlabel(\"Points\")\n",
    "plt.ylabel(\"Fréquence\")\n",
=======
    "file_path = \"data/wine-production/wine-production.csv\"  # Modifier avec le chemin correct\n",
    "df_prod = pd.read_csv(file_path)"
   ]
  },
  {
   "cell_type": "code",
   "execution_count": null,
   "metadata": {},
   "outputs": [],
   "source": [
    "df_prod.head()"
   ]
  },
  {
   "cell_type": "code",
   "execution_count": null,
   "metadata": {},
   "outputs": [],
   "source": [
    "df_prod.info()"
   ]
  },
  {
   "cell_type": "code",
   "execution_count": null,
   "metadata": {},
   "outputs": [],
   "source": [
    "missing_values = df_prod.isnull().sum()\n",
    "print(\"Valeurs manquantes par colonne :\\n\", missing_values)"
   ]
  },
  {
   "cell_type": "code",
   "execution_count": null,
   "metadata": {},
   "outputs": [],
   "source": [
    "duplicates = df_prod.duplicated().sum()\n",
    "print(f\"Nombre de doublons : {duplicates}\")"
   ]
  },
  {
   "cell_type": "markdown",
   "metadata": {},
   "source": [
    "# ANALYSE DES DONNEES "
   ]
  },
  {
   "cell_type": "code",
   "execution_count": null,
   "metadata": {},
   "outputs": [],
   "source": [
    "import numpy as np\n",
    "from scipy.stats import norm\n",
    "import matplotlib.pyplot as plt\n",
    "import seaborn as sns\n",
    "\n",
    "# Calcul de la moyenne et de l'écart-type\n",
    "mean = df[\"points\"].mean()\n",
    "std = df[\"points\"].std()\n",
    "\n",
    "# Générer les valeurs pour la courbe normale\n",
    "x = np.linspace(df[\"points\"].min(), df[\"points\"].max(), 100)\n",
    "normal_curve = norm.pdf(x, mean, std) * len(df[\"points\"]) * (df[\"points\"].max() - df[\"points\"].min()) / 20  # Adapter à l'échelle de l'histogramme\n",
    "\n",
    "# Créer une figure avec deux sous-graphiques : un pour l'histogramme et un pour la boîte à moustaches\n",
    "fig, ax = plt.subplots(2, 1, figsize=(8, 8), gridspec_kw={\"height_ratios\": [3, 1]})\n",
    "\n",
    "# Tracer l'histogramme avec la courbe normale sur le premier graphique\n",
    "sns.histplot(df[\"points\"], bins=20, kde=False, color=\"blue\", label=\"Données\", ax=ax[0])\n",
    "ax[0].plot(x, normal_curve, color=\"red\", label=\"Courbe normale\", linewidth=2)\n",
    "ax[0].axvline(mean, color=\"green\", linestyle=\"--\", linewidth=2, label=f\"Moyenne: {mean:.2f}\")\n",
    "ax[0].set_title(\"Distribution des scores des vins avec la moyenne\")\n",
    "ax[0].set_xlabel(\"Points\")\n",
    "ax[0].set_ylabel(\"Fréquence\")\n",
    "ax[0].legend()\n",
    "\n",
    "# Tracer la boîte à moustaches sur le deuxième graphique\n",
    "sns.boxplot(x=df[\"points\"], ax=ax[1], color=\"blue\", width=0.5)\n",
    "ax[1].set_title(\"Boxplot des scores des vins\")\n",
    "ax[1].set_xlabel(\"Points\")\n",
    "\n",
    "# Ajuster l'espacement entre les graphiques\n",
    "plt.tight_layout()\n",
>>>>>>> Stashed changes
    "plt.show()"
   ]
  },
  {
   "cell_type": "code",
   "execution_count": null,
   "metadata": {},
   "outputs": [],
   "source": [
    "plt.figure(figsize=(8,5))\n",
    "sns.boxplot(x=df[\"price\"])\n",
    "plt.xlim(0, df[\"price\"].quantile(0.95))  # Limite pour exclure les valeurs extrêmes\n",
    "plt.title(\"Distribution des prix des vins\")\n",
    "plt.show()"
   ]
  },
  {
   "cell_type": "code",
   "execution_count": null,
   "metadata": {},
   "outputs": [],
   "source": [
    "top_countries = df[\"country\"].value_counts().head(10)\n",
    "plt.figure(figsize=(10,5))\n",
    "sns.barplot(x=top_countries.index, y=top_countries.values, palette=\"viridis\")\n",
    "plt.title(\"Top 10 des pays avec le plus de vins\")\n",
    "plt.ylabel(\"Nombre de vins\")\n",
    "plt.xticks(rotation=45)\n",
    "plt.show()"
   ]
  },
  {
   "cell_type": "code",
   "execution_count": null,
   "metadata": {},
   "outputs": [],
<<<<<<< Updated upstream
=======
   "source": [
    "# Calcul des variétés les plus populaires\n",
    "top_varieties = df[\"variety\"].value_counts().head(10)\n",
    "\n",
    "# Calcul du prix moyen pour chaque variété\n",
    "mean_prices = df.groupby(\"variety\")[\"price\"].mean().reindex(top_varieties.index)\n",
    "\n",
    "# Création du graphique\n",
    "plt.figure(figsize=(10, 5))\n",
    "\n",
    "# Graphique en barres des variétés les plus populaires\n",
    "sns.barplot(x=top_varieties.index, y=top_varieties.values, palette=\"magma\", label=\"Nombre de vins\",hue=top_varieties.index)\n",
    "\n",
    "# Ajouter une courbe des prix moyens\n",
    "ax = plt.gca()\n",
    "ax2 = ax.twinx()  # Deuxième axe pour les prix\n",
    "ax2.plot(top_varieties.index, mean_prices, color=\"blue\", marker=\"o\", label=\"Prix moyen\", linewidth=2)\n",
    "# ajoute des lignes horizontales pour les prix moyens\n",
    "for i, v in enumerate(mean_prices):\n",
    "    ax2.text(i, v + 1, f\"${v:.2f}\", color='black', ha='center')\n",
    "# Configuration des titres et étiquettes\n",
    "plt.title(\"Top 10 des variétés de cépages les plus populaires avec prix moyens\")\n",
    "ax.set_ylabel(\"Nombre de vins\")\n",
    "ax2.set_ylabel(\"Prix moyen (en $)\")\n",
    "ax.set_xlabel(\"Variété\")\n",
    "ax.tick_params(axis='x', rotation=45)\n",
    "\n",
    "# Ajouter une légende pour les deux axes\n",
    "\n",
    "plt.tight_layout()\n",
    "plt.show()\n"
   ]
  },
  {
   "cell_type": "markdown",
   "metadata": {},
   "source": [
    "Ce diagramme met en évidence les 10 cépages les plus courants dans le dataset. Les variétés en tête, comme le Cabernet Sauvignon, Chardonnay ou Pinot Noir, sont des cépages mondialement connus, largement cultivés et appréciés. Leur popularité peut être due à leur forte production, à la demande du marché ou à leur présence dans les critiques de vin.\n",
    "\n",
    "Si une ou plusieurs variétés dominent nettement, cela peut indiquer un biais dans la collecte des données, favorisant certaines régions viticoles ou styles de vin. De plus, la forte présence des cépages américains peut refléter la surreprésentation des vins des États-Unis dans le dataset, créant un déséquilibre au détriment de certaines variétés locales d’autres pays. Une analyse plus fine des notes moyennes par cépage permettrait d’évaluer si les variétés les plus populaires sont aussi celles jugées de meilleure qualité."
   ]
  },
  {
   "cell_type": "code",
   "execution_count": null,
   "metadata": {},
   "outputs": [],
>>>>>>> Stashed changes
   "source": [
    "avg_price_country = df.groupby(\"country\")[\"price\"].mean().sort_values(ascending=False).head(10)\n",
    "plt.figure(figsize=(10,5))\n",
    "sns.barplot(x=avg_price_country.index, y=avg_price_country.values, palette=\"coolwarm\")\n",
    "plt.title(\"Prix moyen des vins par pays (Top 10)\")\n",
    "plt.ylabel(\"Prix moyen ($)\")\n",
    "plt.xticks(rotation=45)\n",
    "plt.show()"
   ]
  },
  {
   "cell_type": "code",
   "execution_count": null,
   "metadata": {},
   "outputs": [],
   "source": [
<<<<<<< Updated upstream
    "top_varieties = df[\"variety\"].value_counts().head(10)\n",
=======
    "# Détection et suppression des outliers selon le critère de Tukey\n",
    "Q1 = df[\"price\"].quantile(0.25)\n",
    "Q3 = df[\"price\"].quantile(0.75)\n",
    "IQR = Q3 - Q1\n",
    "lower_bound = Q1 - 1.5 * IQR\n",
    "upper_bound = Q3 + 1.5 * IQR\n",
    "\n",
    "# Filtrer les prix sans les outliers\n",
    "df_no_outliers = df[(df[\"price\"] >= lower_bound) & (df[\"price\"] <= upper_bound)]\n",
    "\n",
    "# Calcul du prix moyen par pays sans outliers\n",
    "avg_price_country_no_outliers = (\n",
    "    df_no_outliers.groupby(\"country\")[\"price\"]\n",
    "    .mean()\n",
    "    .sort_values(ascending=False)\n",
    "    .head(10)\n",
    ")\n",
    "\n",
    "# Création du graphique\n",
    "plt.figure(figsize=(10, 5))\n",
    "sns.barplot(\n",
    "    x=avg_price_country_no_outliers.index,\n",
    "    y=avg_price_country_no_outliers.values,\n",
    "    palette=\"coolwarm\",\n",
    "    hue=avg_price_country_no_outliers.index,\n",
    ")\n",
    "plt.title(\"Prix moyen des vins par pays (Top 10) - Sans Outliers\")\n",
    "plt.ylabel(\"Prix moyen ($)\")\n",
    "plt.xticks(rotation=45)\n",
    "plt.show()"
   ]
  },
  {
   "cell_type": "markdown",
   "metadata": {},
   "source": [
    "Ce diagramme montre les 10 pays avec les vins les plus chers en moyenne. On observe que certains pays affichent des prix moyens nettement plus élevés, ce qui peut être dû à une production limitée, une forte réputation viticole ou une demande premium.\n",
    "\n",
    "Si un pays se démarque largement en tête, cela suggère soit un marché haut de gamme, soit un biais dans le dataset, où seuls les vins les plus prestigieux sont recensés.\n",
    "\n",
    "Les États-Unis sont probablement bien représentés, ce qui peut fausser l’analyse en raison d’une surreprésentation des vins américains dans le dataset. Ce déséquilibre pourrait masquer d’autres pays proposant aussi des vins haut de gamme mais en plus faible quantité dans les données. Une analyse croisée avec la distribution des points permettrait de vérifier si ces prix élevés sont corrélés à une meilleure qualité.\n",
    "\n",
    "Dans le cas de la France, on remarque qu'elle n'est plus présente dans le top 10. Cela s'explique probablement par sa forte production de vin, incluant un grand nombre de vins à prix abordables. Cependant, la France est mondialement reconnue pour la qualité de ses vins, et il est donc logique que certains de ses crus figurent parmi les plus chers. Cela explique pourquoi, lorsque les outliers sont exclus, la France disparaît du top 10, les vins à prix excessivement élevés n'étant plus pris en compte dans l'analyse."
   ]
  },
  {
   "cell_type": "code",
   "execution_count": null,
   "metadata": {},
   "outputs": [],
   "source": [
    "df_merged = pd.merge(df, df_prod, left_on=\"country\", right_on=\"Entity\")\n",
    "df_merged = df_merged.groupby(\"country\")[\"Wine\"].sum().sort_values(ascending=False).head(10)\n",
>>>>>>> Stashed changes
    "plt.figure(figsize=(10,5))\n",
    "sns.barplot(x=top_varieties.index, y=top_varieties.values, palette=\"magma\")\n",
    "plt.title(\"Top 10 des variétés de vin les plus populaires\")\n",
    "plt.ylabel(\"Nombre de vins\")\n",
    "plt.xticks(rotation=45)\n",
    "plt.show()"
   ]
  },
  {
   "cell_type": "code",
   "execution_count": null,
   "metadata": {},
   "outputs": [],
   "source": [
    "# Select only numerical columns\n",
    "numerical_df = df.select_dtypes(include=[np.number])\n",
    "\n",
    "plt.figure(figsize=(8,6))\n",
    "sns.heatmap(numerical_df.corr(), annot=True, cmap=\"coolwarm\", linewidths=0.5)\n",
    "plt.title(\"Matrice de corrélation\")\n",
    "plt.show()"
   ]
  },
  {
   "cell_type": "code",
   "execution_count": null,
   "metadata": {},
   "outputs": [],
   "source": [
    "plt.figure(figsize=(8,5))\n",
    "sns.scatterplot(x=df[\"price\"], y=df[\"points\"], alpha=0.5)\n",
    "plt.xlim(0, df[\"price\"].quantile(0.95))  # Exclure les valeurs extrêmes\n",
    "plt.title(\"Relation entre le prix et le score du vin\")\n",
    "plt.xlabel(\"Prix ($)\")\n",
    "plt.ylabel(\"Points\")\n",
<<<<<<< Updated upstream
=======
    "\n",
    "# Ajouter une légende\n",
    "plt.legend()\n",
    "\n",
    "# Améliorer la mise en page\n",
    "plt.tight_layout()\n",
    "plt.show()"
   ]
  },
  {
   "cell_type": "markdown",
   "metadata": {},
   "source": [
    "Ici on peut voir la relation entre le vin et le prix. On remarque que pour les vins à bas prix la notation est relativement faible. Plus les prix montes plus la moyenne des prix tend vers une limite. On peut donc en déduire que à partir d'un certain prix la qualité du vin n'est plus vraiment affecté par le prix. "
   ]
  },
  {
   "cell_type": "code",
   "execution_count": null,
   "metadata": {},
   "outputs": [],
   "source": [
    "avg_notation_country = df.groupby(\"country\")[\"points\"].mean().sort_values(ascending=False).head(10)\n",
    "plt.figure(figsize=(10,5))\n",
    "plt.ylim(88, 100)\n",
    "sns.barplot(x=avg_notation_country.index, y=avg_notation_country.values, palette=\"coolwarm\", hue=avg_notation_country.index)\n",
    "plt.title(\"Notation moyenne des vins par pays (Top 10)\")\n",
    "plt.ylabel(\"Notation moyenne\")\n",
    "plt.xticks(rotation=45)\n",
    "plt.show()"
   ]
  },
  {
   "cell_type": "code",
   "execution_count": null,
   "metadata": {},
   "outputs": [],
   "source": [
    "avg_notation_country = df.groupby(\"country\")[\"points\"].mean().sort_values(ascending=False)\n",
    "plt.figure(figsize=(20,5))\n",
    "plt.ylim(80, 100)\n",
    "sns.barplot(x=avg_notation_country.index, y=avg_notation_country.values, palette=\"coolwarm\", hue=avg_notation_country.index)\n",
    "plt.title(\"Notation moyenne des vins par pays (Top 10)\")\n",
    "plt.ylabel(\"Notation moyenne\")\n",
    "plt.xticks(rotation=90)\n",
>>>>>>> Stashed changes
    "plt.show()"
   ]
  }
 ],
 "metadata": {
  "kernelspec": {
   "display_name": "Python 3",
   "language": "python",
   "name": "python3"
  },
  "language_info": {
   "codemirror_mode": {
    "name": "ipython",
    "version": 3
   },
   "file_extension": ".py",
   "mimetype": "text/x-python",
   "name": "python",
   "nbconvert_exporter": "python",
   "pygments_lexer": "ipython3",
<<<<<<< Updated upstream
   "version": "3.12.3"
=======
   "version": "3.12.4"
>>>>>>> Stashed changes
  }
 },
 "nbformat": 4,
 "nbformat_minor": 2
}
