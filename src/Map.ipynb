{
 "cells": [
  {
   "cell_type": "code",
   "id": "initial_id",
   "metadata": {
    "collapsed": true,
    "ExecuteTime": {
     "end_time": "2025-01-30T10:20:30.238934Z",
     "start_time": "2025-01-30T10:20:30.233025Z"
    }
   },
   "source": [
    "import pandas as pd  # Pour les manipulations de données\n",
    "import numpy as np  # Pour les calculs numériques\n",
    "import matplotlib.pyplot as plt  # Pour les graphiques\n",
    "import plotly.express as px\n",
    "import geopandas as gpd  # Pour les cartes géographiques\n",
    "from lib.data import Data\n"
   ],
   "outputs": [],
   "execution_count": 32
  },
  {
   "metadata": {
    "ExecuteTime": {
     "end_time": "2025-01-30T10:20:30.384392Z",
     "start_time": "2025-01-30T10:20:30.359277Z"
    }
   },
   "cell_type": "code",
   "source": [
    "wineprod_df = Data.data_extraction(\"data/wine-production/wine-production.csv\")\n",
    "\n",
    "    # Traitement des données (nettoyage, préparation)\n",
    "wineprod_treated_df = Data.wine_prod_treatment(wineprod_df)\n",
    "\n",
    "    # Suppression des codes de pays entre parenthèses\n",
    "wineprod_treated_df['Entity'] = wineprod_treated_df['Entity'].str.replace(r\"\\s\\([A-Z]{3}\\)\", \"\", regex=True)\n",
    "wineprod_treated_df"
   ],
   "id": "f6a0a42264bcc8b8",
   "outputs": [
    {
     "data": {
      "text/plain": [
       "        Entity  Year       Wine\n",
       "0       Africa  1961  2041926.0\n",
       "1       Africa  1962  2232189.0\n",
       "2       Africa  1963  2070770.0\n",
       "3       Africa  1964  1856545.0\n",
       "4       Africa  1965  2389869.0\n",
       "...        ...   ...        ...\n",
       "5964  Zimbabwe  2009     1750.0\n",
       "5965  Zimbabwe  2010     1750.0\n",
       "5966  Zimbabwe  2011     1750.0\n",
       "5967  Zimbabwe  2012     1750.0\n",
       "5968  Zimbabwe  2013     1750.0\n",
       "\n",
       "[5969 rows x 3 columns]"
      ],
      "text/html": [
       "<div>\n",
       "<style scoped>\n",
       "    .dataframe tbody tr th:only-of-type {\n",
       "        vertical-align: middle;\n",
       "    }\n",
       "\n",
       "    .dataframe tbody tr th {\n",
       "        vertical-align: top;\n",
       "    }\n",
       "\n",
       "    .dataframe thead th {\n",
       "        text-align: right;\n",
       "    }\n",
       "</style>\n",
       "<table border=\"1\" class=\"dataframe\">\n",
       "  <thead>\n",
       "    <tr style=\"text-align: right;\">\n",
       "      <th></th>\n",
       "      <th>Entity</th>\n",
       "      <th>Year</th>\n",
       "      <th>Wine</th>\n",
       "    </tr>\n",
       "  </thead>\n",
       "  <tbody>\n",
       "    <tr>\n",
       "      <th>0</th>\n",
       "      <td>Africa</td>\n",
       "      <td>1961</td>\n",
       "      <td>2041926.0</td>\n",
       "    </tr>\n",
       "    <tr>\n",
       "      <th>1</th>\n",
       "      <td>Africa</td>\n",
       "      <td>1962</td>\n",
       "      <td>2232189.0</td>\n",
       "    </tr>\n",
       "    <tr>\n",
       "      <th>2</th>\n",
       "      <td>Africa</td>\n",
       "      <td>1963</td>\n",
       "      <td>2070770.0</td>\n",
       "    </tr>\n",
       "    <tr>\n",
       "      <th>3</th>\n",
       "      <td>Africa</td>\n",
       "      <td>1964</td>\n",
       "      <td>1856545.0</td>\n",
       "    </tr>\n",
       "    <tr>\n",
       "      <th>4</th>\n",
       "      <td>Africa</td>\n",
       "      <td>1965</td>\n",
       "      <td>2389869.0</td>\n",
       "    </tr>\n",
       "    <tr>\n",
       "      <th>...</th>\n",
       "      <td>...</td>\n",
       "      <td>...</td>\n",
       "      <td>...</td>\n",
       "    </tr>\n",
       "    <tr>\n",
       "      <th>5964</th>\n",
       "      <td>Zimbabwe</td>\n",
       "      <td>2009</td>\n",
       "      <td>1750.0</td>\n",
       "    </tr>\n",
       "    <tr>\n",
       "      <th>5965</th>\n",
       "      <td>Zimbabwe</td>\n",
       "      <td>2010</td>\n",
       "      <td>1750.0</td>\n",
       "    </tr>\n",
       "    <tr>\n",
       "      <th>5966</th>\n",
       "      <td>Zimbabwe</td>\n",
       "      <td>2011</td>\n",
       "      <td>1750.0</td>\n",
       "    </tr>\n",
       "    <tr>\n",
       "      <th>5967</th>\n",
       "      <td>Zimbabwe</td>\n",
       "      <td>2012</td>\n",
       "      <td>1750.0</td>\n",
       "    </tr>\n",
       "    <tr>\n",
       "      <th>5968</th>\n",
       "      <td>Zimbabwe</td>\n",
       "      <td>2013</td>\n",
       "      <td>1750.0</td>\n",
       "    </tr>\n",
       "  </tbody>\n",
       "</table>\n",
       "<p>5969 rows × 3 columns</p>\n",
       "</div>"
      ]
     },
     "execution_count": 33,
     "metadata": {},
     "output_type": "execute_result"
    }
   ],
   "execution_count": 33
  },
  {
   "metadata": {
    "ExecuteTime": {
     "end_time": "2025-01-30T10:20:30.483677Z",
     "start_time": "2025-01-30T10:20:30.428434Z"
    }
   },
   "cell_type": "code",
   "source": [
    "shapefile_path = \"map/ne_110m_admin_0_countries/ne_110m_admin_0_countries.shp\"\n",
    "world = gpd.read_file(shapefile_path)"
   ],
   "id": "f94cb12963feb5a2",
   "outputs": [],
   "execution_count": 34
  },
  {
   "metadata": {
    "ExecuteTime": {
     "end_time": "2025-01-30T10:20:30.569201Z",
     "start_time": "2025-01-30T10:20:30.553603Z"
    }
   },
   "cell_type": "code",
   "source": "world.info()\n",
   "id": "602b7f9122781594",
   "outputs": [
    {
     "name": "stdout",
     "output_type": "stream",
     "text": [
      "<class 'geopandas.geodataframe.GeoDataFrame'>\n",
      "RangeIndex: 177 entries, 0 to 176\n",
      "Columns: 169 entries, featurecla to geometry\n",
      "dtypes: float64(6), geometry(1), int32(24), int64(1), object(137)\n",
      "memory usage: 217.2+ KB\n"
     ]
    }
   ],
   "execution_count": 35
  },
  {
   "metadata": {
    "ExecuteTime": {
     "end_time": "2025-01-30T10:20:30.622652Z",
     "start_time": "2025-01-30T10:20:30.618955Z"
    }
   },
   "cell_type": "code",
   "source": "wineprod_treated_df['Year'] = wineprod_treated_df['Year'].astype('int')\n",
   "id": "3241efa43362d44c",
   "outputs": [],
   "execution_count": 36
  },
  {
   "metadata": {
    "ExecuteTime": {
     "end_time": "2025-01-30T10:20:30.668063Z",
     "start_time": "2025-01-30T10:20:30.650725Z"
    }
   },
   "cell_type": "code",
   "source": [
    "wineprod_treated_df = wineprod_treated_df.groupby('Entity')['Wine'].median().reset_index()\n",
    "wineprod_treated_df"
   ],
   "id": "3b1d029d62c19123",
   "outputs": [
    {
     "data": {
      "text/plain": [
       "                  Entity        Wine\n",
       "0                 Africa   1085677.2\n",
       "1                Albania     15000.0\n",
       "2                Algeria     87500.0\n",
       "3               Americas   4935013.5\n",
       "4    Antigua and Barbuda         0.0\n",
       "..                   ...         ...\n",
       "131         Western Asia    138306.0\n",
       "132       Western Europe   6913998.0\n",
       "133                World  28201932.0\n",
       "134           Yugoslavia    590000.0\n",
       "135             Zimbabwe      1190.0\n",
       "\n",
       "[136 rows x 2 columns]"
      ],
      "text/html": [
       "<div>\n",
       "<style scoped>\n",
       "    .dataframe tbody tr th:only-of-type {\n",
       "        vertical-align: middle;\n",
       "    }\n",
       "\n",
       "    .dataframe tbody tr th {\n",
       "        vertical-align: top;\n",
       "    }\n",
       "\n",
       "    .dataframe thead th {\n",
       "        text-align: right;\n",
       "    }\n",
       "</style>\n",
       "<table border=\"1\" class=\"dataframe\">\n",
       "  <thead>\n",
       "    <tr style=\"text-align: right;\">\n",
       "      <th></th>\n",
       "      <th>Entity</th>\n",
       "      <th>Wine</th>\n",
       "    </tr>\n",
       "  </thead>\n",
       "  <tbody>\n",
       "    <tr>\n",
       "      <th>0</th>\n",
       "      <td>Africa</td>\n",
       "      <td>1085677.2</td>\n",
       "    </tr>\n",
       "    <tr>\n",
       "      <th>1</th>\n",
       "      <td>Albania</td>\n",
       "      <td>15000.0</td>\n",
       "    </tr>\n",
       "    <tr>\n",
       "      <th>2</th>\n",
       "      <td>Algeria</td>\n",
       "      <td>87500.0</td>\n",
       "    </tr>\n",
       "    <tr>\n",
       "      <th>3</th>\n",
       "      <td>Americas</td>\n",
       "      <td>4935013.5</td>\n",
       "    </tr>\n",
       "    <tr>\n",
       "      <th>4</th>\n",
       "      <td>Antigua and Barbuda</td>\n",
       "      <td>0.0</td>\n",
       "    </tr>\n",
       "    <tr>\n",
       "      <th>...</th>\n",
       "      <td>...</td>\n",
       "      <td>...</td>\n",
       "    </tr>\n",
       "    <tr>\n",
       "      <th>131</th>\n",
       "      <td>Western Asia</td>\n",
       "      <td>138306.0</td>\n",
       "    </tr>\n",
       "    <tr>\n",
       "      <th>132</th>\n",
       "      <td>Western Europe</td>\n",
       "      <td>6913998.0</td>\n",
       "    </tr>\n",
       "    <tr>\n",
       "      <th>133</th>\n",
       "      <td>World</td>\n",
       "      <td>28201932.0</td>\n",
       "    </tr>\n",
       "    <tr>\n",
       "      <th>134</th>\n",
       "      <td>Yugoslavia</td>\n",
       "      <td>590000.0</td>\n",
       "    </tr>\n",
       "    <tr>\n",
       "      <th>135</th>\n",
       "      <td>Zimbabwe</td>\n",
       "      <td>1190.0</td>\n",
       "    </tr>\n",
       "  </tbody>\n",
       "</table>\n",
       "<p>136 rows × 2 columns</p>\n",
       "</div>"
      ]
     },
     "execution_count": 37,
     "metadata": {},
     "output_type": "execute_result"
    }
   ],
   "execution_count": 37
  },
  {
   "metadata": {
    "ExecuteTime": {
     "end_time": "2025-01-30T10:20:30.770120Z",
     "start_time": "2025-01-30T10:20:30.730357Z"
    }
   },
   "cell_type": "code",
   "source": [
    "compatibility_dict = {\n",
    "    'United States': 'United States of America',\n",
    "}\n",
    "\n",
    "# Appliquer le dictionnaire de compatibilité sur la colonne 'Entity' de 'wineprod_treated_df'\n",
    "wineprod_treated_df['Entity'] = wineprod_treated_df['Entity'].replace(compatibility_dict)\n",
    "\n",
    "# Faire la jointure après avoir harmonisé les noms\n",
    "merged = world.set_index('SOVEREIGNT').join(wineprod_treated_df.set_index('Entity'), how='left')\n",
    "merged"
   ],
   "id": "1f956120f3e61bfa",
   "outputs": [
    {
     "data": {
      "text/plain": [
       "                                  featurecla  scalerank  LABELRANK SOV_A3  \\\n",
       "SOVEREIGNT                                                                  \n",
       "Fiji                         Admin-0 country          1          6    FJI   \n",
       "United Republic of Tanzania  Admin-0 country          1          3    TZA   \n",
       "Western Sahara               Admin-0 country          1          7    SAH   \n",
       "Canada                       Admin-0 country          1          2    CAN   \n",
       "United States of America     Admin-0 country          1          2    US1   \n",
       "...                                      ...        ...        ...    ...   \n",
       "Republic of Serbia           Admin-0 country          1          5    SRB   \n",
       "Montenegro                   Admin-0 country          1          6    MNE   \n",
       "Kosovo                       Admin-0 country          1          6    KOS   \n",
       "Trinidad and Tobago          Admin-0 country          1          5    TTO   \n",
       "South Sudan                  Admin-0 country          1          3    SDS   \n",
       "\n",
       "                             ADM0_DIF  LEVEL               TYPE TLC  \\\n",
       "SOVEREIGNT                                                            \n",
       "Fiji                                0      2  Sovereign country   1   \n",
       "United Republic of Tanzania         0      2  Sovereign country   1   \n",
       "Western Sahara                      0      2      Indeterminate   1   \n",
       "Canada                              0      2  Sovereign country   1   \n",
       "United States of America            1      2            Country   1   \n",
       "...                               ...    ...                ...  ..   \n",
       "Republic of Serbia                  0      2  Sovereign country   1   \n",
       "Montenegro                          0      2  Sovereign country   1   \n",
       "Kosovo                              0      2           Disputed   1   \n",
       "Trinidad and Tobago                 0      2  Sovereign country   1   \n",
       "South Sudan                         0      2  Sovereign country   1   \n",
       "\n",
       "                                                   ADMIN ADM0_A3  ...  \\\n",
       "SOVEREIGNT                                                        ...   \n",
       "Fiji                                                Fiji     FJI  ...   \n",
       "United Republic of Tanzania  United Republic of Tanzania     TZA  ...   \n",
       "Western Sahara                            Western Sahara     SAH  ...   \n",
       "Canada                                            Canada     CAN  ...   \n",
       "United States of America        United States of America     USA  ...   \n",
       "...                                                  ...     ...  ...   \n",
       "Republic of Serbia                    Republic of Serbia     SRB  ...   \n",
       "Montenegro                                    Montenegro     MNE  ...   \n",
       "Kosovo                                            Kosovo     KOS  ...   \n",
       "Trinidad and Tobago                  Trinidad and Tobago     TTO  ...   \n",
       "South Sudan                                  South Sudan     SDS  ...   \n",
       "\n",
       "                                FCLASS_ID        FCLASS_PL     FCLASS_GR  \\\n",
       "SOVEREIGNT                                                                 \n",
       "Fiji                                 None             None          None   \n",
       "United Republic of Tanzania          None             None          None   \n",
       "Western Sahara               Unrecognized     Unrecognized          None   \n",
       "Canada                               None             None          None   \n",
       "United States of America             None             None          None   \n",
       "...                                   ...              ...           ...   \n",
       "Republic of Serbia                   None             None          None   \n",
       "Montenegro                           None             None          None   \n",
       "Kosovo                       Unrecognized  Admin-0 country  Unrecognized   \n",
       "Trinidad and Tobago                  None             None          None   \n",
       "South Sudan                          None             None          None   \n",
       "\n",
       "                                   FCLASS_IT        FCLASS_NL  \\\n",
       "SOVEREIGNT                                                      \n",
       "Fiji                                    None             None   \n",
       "United Republic of Tanzania             None             None   \n",
       "Western Sahara                          None     Unrecognized   \n",
       "Canada                                  None             None   \n",
       "United States of America                None             None   \n",
       "...                                      ...              ...   \n",
       "Republic of Serbia                      None             None   \n",
       "Montenegro                              None             None   \n",
       "Kosovo                       Admin-0 country  Admin-0 country   \n",
       "Trinidad and Tobago                     None             None   \n",
       "South Sudan                             None             None   \n",
       "\n",
       "                                   FCLASS_SE        FCLASS_BD     FCLASS_UA  \\\n",
       "SOVEREIGNT                                                                    \n",
       "Fiji                                    None             None          None   \n",
       "United Republic of Tanzania             None             None          None   \n",
       "Western Sahara                          None             None          None   \n",
       "Canada                                  None             None          None   \n",
       "United States of America                None             None          None   \n",
       "...                                      ...              ...           ...   \n",
       "Republic of Serbia                      None             None          None   \n",
       "Montenegro                              None             None          None   \n",
       "Kosovo                       Admin-0 country  Admin-0 country  Unrecognized   \n",
       "Trinidad and Tobago                     None             None          None   \n",
       "South Sudan                             None             None          None   \n",
       "\n",
       "                                                                      geometry  \\\n",
       "SOVEREIGNT                                                                       \n",
       "Fiji                         MULTIPOLYGON (((180 -16.06713, 180 -16.55522, ...   \n",
       "United Republic of Tanzania  POLYGON ((33.90371 -0.95, 34.07262 -1.05982, 3...   \n",
       "Western Sahara               POLYGON ((-8.66559 27.65643, -8.66512 27.58948...   \n",
       "Canada                       MULTIPOLYGON (((-122.84 49, -122.97421 49.0025...   \n",
       "United States of America     MULTIPOLYGON (((-122.84 49, -120 49, -117.0312...   \n",
       "...                                                                        ...   \n",
       "Republic of Serbia           POLYGON ((18.82982 45.90887, 18.82984 45.90888...   \n",
       "Montenegro                   POLYGON ((20.0707 42.58863, 19.80161 42.50009,...   \n",
       "Kosovo                       POLYGON ((20.59025 41.85541, 20.52295 42.21787...   \n",
       "Trinidad and Tobago          POLYGON ((-61.68 10.76, -61.105 10.89, -60.895...   \n",
       "South Sudan                  POLYGON ((30.83385 3.50917, 29.9535 4.1737, 29...   \n",
       "\n",
       "                                    Wine  \n",
       "SOVEREIGNT                                \n",
       "Fiji                               0.000  \n",
       "United Republic of Tanzania          NaN  \n",
       "Western Sahara                       NaN  \n",
       "Canada                         45402.000  \n",
       "United States of America     1887700.000  \n",
       "...                                  ...  \n",
       "Republic of Serbia                   NaN  \n",
       "Montenegro                     14754.045  \n",
       "Kosovo                               NaN  \n",
       "Trinidad and Tobago                0.000  \n",
       "South Sudan                          NaN  \n",
       "\n",
       "[177 rows x 169 columns]"
      ],
      "text/html": [
       "<div>\n",
       "<style scoped>\n",
       "    .dataframe tbody tr th:only-of-type {\n",
       "        vertical-align: middle;\n",
       "    }\n",
       "\n",
       "    .dataframe tbody tr th {\n",
       "        vertical-align: top;\n",
       "    }\n",
       "\n",
       "    .dataframe thead th {\n",
       "        text-align: right;\n",
       "    }\n",
       "</style>\n",
       "<table border=\"1\" class=\"dataframe\">\n",
       "  <thead>\n",
       "    <tr style=\"text-align: right;\">\n",
       "      <th></th>\n",
       "      <th>featurecla</th>\n",
       "      <th>scalerank</th>\n",
       "      <th>LABELRANK</th>\n",
       "      <th>SOV_A3</th>\n",
       "      <th>ADM0_DIF</th>\n",
       "      <th>LEVEL</th>\n",
       "      <th>TYPE</th>\n",
       "      <th>TLC</th>\n",
       "      <th>ADMIN</th>\n",
       "      <th>ADM0_A3</th>\n",
       "      <th>...</th>\n",
       "      <th>FCLASS_ID</th>\n",
       "      <th>FCLASS_PL</th>\n",
       "      <th>FCLASS_GR</th>\n",
       "      <th>FCLASS_IT</th>\n",
       "      <th>FCLASS_NL</th>\n",
       "      <th>FCLASS_SE</th>\n",
       "      <th>FCLASS_BD</th>\n",
       "      <th>FCLASS_UA</th>\n",
       "      <th>geometry</th>\n",
       "      <th>Wine</th>\n",
       "    </tr>\n",
       "    <tr>\n",
       "      <th>SOVEREIGNT</th>\n",
       "      <th></th>\n",
       "      <th></th>\n",
       "      <th></th>\n",
       "      <th></th>\n",
       "      <th></th>\n",
       "      <th></th>\n",
       "      <th></th>\n",
       "      <th></th>\n",
       "      <th></th>\n",
       "      <th></th>\n",
       "      <th></th>\n",
       "      <th></th>\n",
       "      <th></th>\n",
       "      <th></th>\n",
       "      <th></th>\n",
       "      <th></th>\n",
       "      <th></th>\n",
       "      <th></th>\n",
       "      <th></th>\n",
       "      <th></th>\n",
       "      <th></th>\n",
       "    </tr>\n",
       "  </thead>\n",
       "  <tbody>\n",
       "    <tr>\n",
       "      <th>Fiji</th>\n",
       "      <td>Admin-0 country</td>\n",
       "      <td>1</td>\n",
       "      <td>6</td>\n",
       "      <td>FJI</td>\n",
       "      <td>0</td>\n",
       "      <td>2</td>\n",
       "      <td>Sovereign country</td>\n",
       "      <td>1</td>\n",
       "      <td>Fiji</td>\n",
       "      <td>FJI</td>\n",
       "      <td>...</td>\n",
       "      <td>None</td>\n",
       "      <td>None</td>\n",
       "      <td>None</td>\n",
       "      <td>None</td>\n",
       "      <td>None</td>\n",
       "      <td>None</td>\n",
       "      <td>None</td>\n",
       "      <td>None</td>\n",
       "      <td>MULTIPOLYGON (((180 -16.06713, 180 -16.55522, ...</td>\n",
       "      <td>0.000</td>\n",
       "    </tr>\n",
       "    <tr>\n",
       "      <th>United Republic of Tanzania</th>\n",
       "      <td>Admin-0 country</td>\n",
       "      <td>1</td>\n",
       "      <td>3</td>\n",
       "      <td>TZA</td>\n",
       "      <td>0</td>\n",
       "      <td>2</td>\n",
       "      <td>Sovereign country</td>\n",
       "      <td>1</td>\n",
       "      <td>United Republic of Tanzania</td>\n",
       "      <td>TZA</td>\n",
       "      <td>...</td>\n",
       "      <td>None</td>\n",
       "      <td>None</td>\n",
       "      <td>None</td>\n",
       "      <td>None</td>\n",
       "      <td>None</td>\n",
       "      <td>None</td>\n",
       "      <td>None</td>\n",
       "      <td>None</td>\n",
       "      <td>POLYGON ((33.90371 -0.95, 34.07262 -1.05982, 3...</td>\n",
       "      <td>NaN</td>\n",
       "    </tr>\n",
       "    <tr>\n",
       "      <th>Western Sahara</th>\n",
       "      <td>Admin-0 country</td>\n",
       "      <td>1</td>\n",
       "      <td>7</td>\n",
       "      <td>SAH</td>\n",
       "      <td>0</td>\n",
       "      <td>2</td>\n",
       "      <td>Indeterminate</td>\n",
       "      <td>1</td>\n",
       "      <td>Western Sahara</td>\n",
       "      <td>SAH</td>\n",
       "      <td>...</td>\n",
       "      <td>Unrecognized</td>\n",
       "      <td>Unrecognized</td>\n",
       "      <td>None</td>\n",
       "      <td>None</td>\n",
       "      <td>Unrecognized</td>\n",
       "      <td>None</td>\n",
       "      <td>None</td>\n",
       "      <td>None</td>\n",
       "      <td>POLYGON ((-8.66559 27.65643, -8.66512 27.58948...</td>\n",
       "      <td>NaN</td>\n",
       "    </tr>\n",
       "    <tr>\n",
       "      <th>Canada</th>\n",
       "      <td>Admin-0 country</td>\n",
       "      <td>1</td>\n",
       "      <td>2</td>\n",
       "      <td>CAN</td>\n",
       "      <td>0</td>\n",
       "      <td>2</td>\n",
       "      <td>Sovereign country</td>\n",
       "      <td>1</td>\n",
       "      <td>Canada</td>\n",
       "      <td>CAN</td>\n",
       "      <td>...</td>\n",
       "      <td>None</td>\n",
       "      <td>None</td>\n",
       "      <td>None</td>\n",
       "      <td>None</td>\n",
       "      <td>None</td>\n",
       "      <td>None</td>\n",
       "      <td>None</td>\n",
       "      <td>None</td>\n",
       "      <td>MULTIPOLYGON (((-122.84 49, -122.97421 49.0025...</td>\n",
       "      <td>45402.000</td>\n",
       "    </tr>\n",
       "    <tr>\n",
       "      <th>United States of America</th>\n",
       "      <td>Admin-0 country</td>\n",
       "      <td>1</td>\n",
       "      <td>2</td>\n",
       "      <td>US1</td>\n",
       "      <td>1</td>\n",
       "      <td>2</td>\n",
       "      <td>Country</td>\n",
       "      <td>1</td>\n",
       "      <td>United States of America</td>\n",
       "      <td>USA</td>\n",
       "      <td>...</td>\n",
       "      <td>None</td>\n",
       "      <td>None</td>\n",
       "      <td>None</td>\n",
       "      <td>None</td>\n",
       "      <td>None</td>\n",
       "      <td>None</td>\n",
       "      <td>None</td>\n",
       "      <td>None</td>\n",
       "      <td>MULTIPOLYGON (((-122.84 49, -120 49, -117.0312...</td>\n",
       "      <td>1887700.000</td>\n",
       "    </tr>\n",
       "    <tr>\n",
       "      <th>...</th>\n",
       "      <td>...</td>\n",
       "      <td>...</td>\n",
       "      <td>...</td>\n",
       "      <td>...</td>\n",
       "      <td>...</td>\n",
       "      <td>...</td>\n",
       "      <td>...</td>\n",
       "      <td>...</td>\n",
       "      <td>...</td>\n",
       "      <td>...</td>\n",
       "      <td>...</td>\n",
       "      <td>...</td>\n",
       "      <td>...</td>\n",
       "      <td>...</td>\n",
       "      <td>...</td>\n",
       "      <td>...</td>\n",
       "      <td>...</td>\n",
       "      <td>...</td>\n",
       "      <td>...</td>\n",
       "      <td>...</td>\n",
       "      <td>...</td>\n",
       "    </tr>\n",
       "    <tr>\n",
       "      <th>Republic of Serbia</th>\n",
       "      <td>Admin-0 country</td>\n",
       "      <td>1</td>\n",
       "      <td>5</td>\n",
       "      <td>SRB</td>\n",
       "      <td>0</td>\n",
       "      <td>2</td>\n",
       "      <td>Sovereign country</td>\n",
       "      <td>1</td>\n",
       "      <td>Republic of Serbia</td>\n",
       "      <td>SRB</td>\n",
       "      <td>...</td>\n",
       "      <td>None</td>\n",
       "      <td>None</td>\n",
       "      <td>None</td>\n",
       "      <td>None</td>\n",
       "      <td>None</td>\n",
       "      <td>None</td>\n",
       "      <td>None</td>\n",
       "      <td>None</td>\n",
       "      <td>POLYGON ((18.82982 45.90887, 18.82984 45.90888...</td>\n",
       "      <td>NaN</td>\n",
       "    </tr>\n",
       "    <tr>\n",
       "      <th>Montenegro</th>\n",
       "      <td>Admin-0 country</td>\n",
       "      <td>1</td>\n",
       "      <td>6</td>\n",
       "      <td>MNE</td>\n",
       "      <td>0</td>\n",
       "      <td>2</td>\n",
       "      <td>Sovereign country</td>\n",
       "      <td>1</td>\n",
       "      <td>Montenegro</td>\n",
       "      <td>MNE</td>\n",
       "      <td>...</td>\n",
       "      <td>None</td>\n",
       "      <td>None</td>\n",
       "      <td>None</td>\n",
       "      <td>None</td>\n",
       "      <td>None</td>\n",
       "      <td>None</td>\n",
       "      <td>None</td>\n",
       "      <td>None</td>\n",
       "      <td>POLYGON ((20.0707 42.58863, 19.80161 42.50009,...</td>\n",
       "      <td>14754.045</td>\n",
       "    </tr>\n",
       "    <tr>\n",
       "      <th>Kosovo</th>\n",
       "      <td>Admin-0 country</td>\n",
       "      <td>1</td>\n",
       "      <td>6</td>\n",
       "      <td>KOS</td>\n",
       "      <td>0</td>\n",
       "      <td>2</td>\n",
       "      <td>Disputed</td>\n",
       "      <td>1</td>\n",
       "      <td>Kosovo</td>\n",
       "      <td>KOS</td>\n",
       "      <td>...</td>\n",
       "      <td>Unrecognized</td>\n",
       "      <td>Admin-0 country</td>\n",
       "      <td>Unrecognized</td>\n",
       "      <td>Admin-0 country</td>\n",
       "      <td>Admin-0 country</td>\n",
       "      <td>Admin-0 country</td>\n",
       "      <td>Admin-0 country</td>\n",
       "      <td>Unrecognized</td>\n",
       "      <td>POLYGON ((20.59025 41.85541, 20.52295 42.21787...</td>\n",
       "      <td>NaN</td>\n",
       "    </tr>\n",
       "    <tr>\n",
       "      <th>Trinidad and Tobago</th>\n",
       "      <td>Admin-0 country</td>\n",
       "      <td>1</td>\n",
       "      <td>5</td>\n",
       "      <td>TTO</td>\n",
       "      <td>0</td>\n",
       "      <td>2</td>\n",
       "      <td>Sovereign country</td>\n",
       "      <td>1</td>\n",
       "      <td>Trinidad and Tobago</td>\n",
       "      <td>TTO</td>\n",
       "      <td>...</td>\n",
       "      <td>None</td>\n",
       "      <td>None</td>\n",
       "      <td>None</td>\n",
       "      <td>None</td>\n",
       "      <td>None</td>\n",
       "      <td>None</td>\n",
       "      <td>None</td>\n",
       "      <td>None</td>\n",
       "      <td>POLYGON ((-61.68 10.76, -61.105 10.89, -60.895...</td>\n",
       "      <td>0.000</td>\n",
       "    </tr>\n",
       "    <tr>\n",
       "      <th>South Sudan</th>\n",
       "      <td>Admin-0 country</td>\n",
       "      <td>1</td>\n",
       "      <td>3</td>\n",
       "      <td>SDS</td>\n",
       "      <td>0</td>\n",
       "      <td>2</td>\n",
       "      <td>Sovereign country</td>\n",
       "      <td>1</td>\n",
       "      <td>South Sudan</td>\n",
       "      <td>SDS</td>\n",
       "      <td>...</td>\n",
       "      <td>None</td>\n",
       "      <td>None</td>\n",
       "      <td>None</td>\n",
       "      <td>None</td>\n",
       "      <td>None</td>\n",
       "      <td>None</td>\n",
       "      <td>None</td>\n",
       "      <td>None</td>\n",
       "      <td>POLYGON ((30.83385 3.50917, 29.9535 4.1737, 29...</td>\n",
       "      <td>NaN</td>\n",
       "    </tr>\n",
       "  </tbody>\n",
       "</table>\n",
       "<p>177 rows × 169 columns</p>\n",
       "</div>"
      ]
     },
     "execution_count": 38,
     "metadata": {},
     "output_type": "execute_result"
    }
   ],
   "execution_count": 38
  },
  {
   "metadata": {
    "ExecuteTime": {
     "end_time": "2025-01-30T10:20:30.935233Z",
     "start_time": "2025-01-30T10:20:30.897777Z"
    }
   },
   "cell_type": "code",
   "source": [
    "merged = merged.fillna(0)\n",
    "merged"
   ],
   "id": "1aac05fc25174e55",
   "outputs": [
    {
     "name": "stderr",
     "output_type": "stream",
     "text": [
      "C:\\Users\\loicq\\AppData\\Local\\Temp\\ipykernel_18464\\4211801929.py:1: FutureWarning:\n",
      "\n",
      "Downcasting object dtype arrays on .fillna, .ffill, .bfill is deprecated and will change in a future version. Call result.infer_objects(copy=False) instead. To opt-in to the future behavior, set `pd.set_option('future.no_silent_downcasting', True)`\n",
      "\n"
     ]
    },
    {
     "data": {
      "text/plain": [
       "                                  featurecla  scalerank  LABELRANK SOV_A3  \\\n",
       "SOVEREIGNT                                                                  \n",
       "Fiji                         Admin-0 country          1          6    FJI   \n",
       "United Republic of Tanzania  Admin-0 country          1          3    TZA   \n",
       "Western Sahara               Admin-0 country          1          7    SAH   \n",
       "Canada                       Admin-0 country          1          2    CAN   \n",
       "United States of America     Admin-0 country          1          2    US1   \n",
       "...                                      ...        ...        ...    ...   \n",
       "Republic of Serbia           Admin-0 country          1          5    SRB   \n",
       "Montenegro                   Admin-0 country          1          6    MNE   \n",
       "Kosovo                       Admin-0 country          1          6    KOS   \n",
       "Trinidad and Tobago          Admin-0 country          1          5    TTO   \n",
       "South Sudan                  Admin-0 country          1          3    SDS   \n",
       "\n",
       "                             ADM0_DIF  LEVEL               TYPE TLC  \\\n",
       "SOVEREIGNT                                                            \n",
       "Fiji                                0      2  Sovereign country   1   \n",
       "United Republic of Tanzania         0      2  Sovereign country   1   \n",
       "Western Sahara                      0      2      Indeterminate   1   \n",
       "Canada                              0      2  Sovereign country   1   \n",
       "United States of America            1      2            Country   1   \n",
       "...                               ...    ...                ...  ..   \n",
       "Republic of Serbia                  0      2  Sovereign country   1   \n",
       "Montenegro                          0      2  Sovereign country   1   \n",
       "Kosovo                              0      2           Disputed   1   \n",
       "Trinidad and Tobago                 0      2  Sovereign country   1   \n",
       "South Sudan                         0      2  Sovereign country   1   \n",
       "\n",
       "                                                   ADMIN ADM0_A3  ...  \\\n",
       "SOVEREIGNT                                                        ...   \n",
       "Fiji                                                Fiji     FJI  ...   \n",
       "United Republic of Tanzania  United Republic of Tanzania     TZA  ...   \n",
       "Western Sahara                            Western Sahara     SAH  ...   \n",
       "Canada                                            Canada     CAN  ...   \n",
       "United States of America        United States of America     USA  ...   \n",
       "...                                                  ...     ...  ...   \n",
       "Republic of Serbia                    Republic of Serbia     SRB  ...   \n",
       "Montenegro                                    Montenegro     MNE  ...   \n",
       "Kosovo                                            Kosovo     KOS  ...   \n",
       "Trinidad and Tobago                  Trinidad and Tobago     TTO  ...   \n",
       "South Sudan                                  South Sudan     SDS  ...   \n",
       "\n",
       "                                FCLASS_ID        FCLASS_PL     FCLASS_GR  \\\n",
       "SOVEREIGNT                                                                 \n",
       "Fiji                                    0                0             0   \n",
       "United Republic of Tanzania             0                0             0   \n",
       "Western Sahara               Unrecognized     Unrecognized             0   \n",
       "Canada                                  0                0             0   \n",
       "United States of America                0                0             0   \n",
       "...                                   ...              ...           ...   \n",
       "Republic of Serbia                      0                0             0   \n",
       "Montenegro                              0                0             0   \n",
       "Kosovo                       Unrecognized  Admin-0 country  Unrecognized   \n",
       "Trinidad and Tobago                     0                0             0   \n",
       "South Sudan                             0                0             0   \n",
       "\n",
       "                                   FCLASS_IT        FCLASS_NL  \\\n",
       "SOVEREIGNT                                                      \n",
       "Fiji                                       0                0   \n",
       "United Republic of Tanzania                0                0   \n",
       "Western Sahara                             0     Unrecognized   \n",
       "Canada                                     0                0   \n",
       "United States of America                   0                0   \n",
       "...                                      ...              ...   \n",
       "Republic of Serbia                         0                0   \n",
       "Montenegro                                 0                0   \n",
       "Kosovo                       Admin-0 country  Admin-0 country   \n",
       "Trinidad and Tobago                        0                0   \n",
       "South Sudan                                0                0   \n",
       "\n",
       "                                   FCLASS_SE        FCLASS_BD     FCLASS_UA  \\\n",
       "SOVEREIGNT                                                                    \n",
       "Fiji                                       0                0             0   \n",
       "United Republic of Tanzania                0                0             0   \n",
       "Western Sahara                             0                0             0   \n",
       "Canada                                     0                0             0   \n",
       "United States of America                   0                0             0   \n",
       "...                                      ...              ...           ...   \n",
       "Republic of Serbia                         0                0             0   \n",
       "Montenegro                                 0                0             0   \n",
       "Kosovo                       Admin-0 country  Admin-0 country  Unrecognized   \n",
       "Trinidad and Tobago                        0                0             0   \n",
       "South Sudan                                0                0             0   \n",
       "\n",
       "                                                                      geometry  \\\n",
       "SOVEREIGNT                                                                       \n",
       "Fiji                         MULTIPOLYGON (((180 -16.06713, 180 -16.55522, ...   \n",
       "United Republic of Tanzania  POLYGON ((33.90371 -0.95, 34.07262 -1.05982, 3...   \n",
       "Western Sahara               POLYGON ((-8.66559 27.65643, -8.66512 27.58948...   \n",
       "Canada                       MULTIPOLYGON (((-122.84 49, -122.97421 49.0025...   \n",
       "United States of America     MULTIPOLYGON (((-122.84 49, -120 49, -117.0312...   \n",
       "...                                                                        ...   \n",
       "Republic of Serbia           POLYGON ((18.82982 45.90887, 18.82984 45.90888...   \n",
       "Montenegro                   POLYGON ((20.0707 42.58863, 19.80161 42.50009,...   \n",
       "Kosovo                       POLYGON ((20.59025 41.85541, 20.52295 42.21787...   \n",
       "Trinidad and Tobago          POLYGON ((-61.68 10.76, -61.105 10.89, -60.895...   \n",
       "South Sudan                  POLYGON ((30.83385 3.50917, 29.9535 4.1737, 29...   \n",
       "\n",
       "                                    Wine  \n",
       "SOVEREIGNT                                \n",
       "Fiji                               0.000  \n",
       "United Republic of Tanzania        0.000  \n",
       "Western Sahara                     0.000  \n",
       "Canada                         45402.000  \n",
       "United States of America     1887700.000  \n",
       "...                                  ...  \n",
       "Republic of Serbia                 0.000  \n",
       "Montenegro                     14754.045  \n",
       "Kosovo                             0.000  \n",
       "Trinidad and Tobago                0.000  \n",
       "South Sudan                        0.000  \n",
       "\n",
       "[177 rows x 169 columns]"
      ],
      "text/html": [
       "<div>\n",
       "<style scoped>\n",
       "    .dataframe tbody tr th:only-of-type {\n",
       "        vertical-align: middle;\n",
       "    }\n",
       "\n",
       "    .dataframe tbody tr th {\n",
       "        vertical-align: top;\n",
       "    }\n",
       "\n",
       "    .dataframe thead th {\n",
       "        text-align: right;\n",
       "    }\n",
       "</style>\n",
       "<table border=\"1\" class=\"dataframe\">\n",
       "  <thead>\n",
       "    <tr style=\"text-align: right;\">\n",
       "      <th></th>\n",
       "      <th>featurecla</th>\n",
       "      <th>scalerank</th>\n",
       "      <th>LABELRANK</th>\n",
       "      <th>SOV_A3</th>\n",
       "      <th>ADM0_DIF</th>\n",
       "      <th>LEVEL</th>\n",
       "      <th>TYPE</th>\n",
       "      <th>TLC</th>\n",
       "      <th>ADMIN</th>\n",
       "      <th>ADM0_A3</th>\n",
       "      <th>...</th>\n",
       "      <th>FCLASS_ID</th>\n",
       "      <th>FCLASS_PL</th>\n",
       "      <th>FCLASS_GR</th>\n",
       "      <th>FCLASS_IT</th>\n",
       "      <th>FCLASS_NL</th>\n",
       "      <th>FCLASS_SE</th>\n",
       "      <th>FCLASS_BD</th>\n",
       "      <th>FCLASS_UA</th>\n",
       "      <th>geometry</th>\n",
       "      <th>Wine</th>\n",
       "    </tr>\n",
       "    <tr>\n",
       "      <th>SOVEREIGNT</th>\n",
       "      <th></th>\n",
       "      <th></th>\n",
       "      <th></th>\n",
       "      <th></th>\n",
       "      <th></th>\n",
       "      <th></th>\n",
       "      <th></th>\n",
       "      <th></th>\n",
       "      <th></th>\n",
       "      <th></th>\n",
       "      <th></th>\n",
       "      <th></th>\n",
       "      <th></th>\n",
       "      <th></th>\n",
       "      <th></th>\n",
       "      <th></th>\n",
       "      <th></th>\n",
       "      <th></th>\n",
       "      <th></th>\n",
       "      <th></th>\n",
       "      <th></th>\n",
       "    </tr>\n",
       "  </thead>\n",
       "  <tbody>\n",
       "    <tr>\n",
       "      <th>Fiji</th>\n",
       "      <td>Admin-0 country</td>\n",
       "      <td>1</td>\n",
       "      <td>6</td>\n",
       "      <td>FJI</td>\n",
       "      <td>0</td>\n",
       "      <td>2</td>\n",
       "      <td>Sovereign country</td>\n",
       "      <td>1</td>\n",
       "      <td>Fiji</td>\n",
       "      <td>FJI</td>\n",
       "      <td>...</td>\n",
       "      <td>0</td>\n",
       "      <td>0</td>\n",
       "      <td>0</td>\n",
       "      <td>0</td>\n",
       "      <td>0</td>\n",
       "      <td>0</td>\n",
       "      <td>0</td>\n",
       "      <td>0</td>\n",
       "      <td>MULTIPOLYGON (((180 -16.06713, 180 -16.55522, ...</td>\n",
       "      <td>0.000</td>\n",
       "    </tr>\n",
       "    <tr>\n",
       "      <th>United Republic of Tanzania</th>\n",
       "      <td>Admin-0 country</td>\n",
       "      <td>1</td>\n",
       "      <td>3</td>\n",
       "      <td>TZA</td>\n",
       "      <td>0</td>\n",
       "      <td>2</td>\n",
       "      <td>Sovereign country</td>\n",
       "      <td>1</td>\n",
       "      <td>United Republic of Tanzania</td>\n",
       "      <td>TZA</td>\n",
       "      <td>...</td>\n",
       "      <td>0</td>\n",
       "      <td>0</td>\n",
       "      <td>0</td>\n",
       "      <td>0</td>\n",
       "      <td>0</td>\n",
       "      <td>0</td>\n",
       "      <td>0</td>\n",
       "      <td>0</td>\n",
       "      <td>POLYGON ((33.90371 -0.95, 34.07262 -1.05982, 3...</td>\n",
       "      <td>0.000</td>\n",
       "    </tr>\n",
       "    <tr>\n",
       "      <th>Western Sahara</th>\n",
       "      <td>Admin-0 country</td>\n",
       "      <td>1</td>\n",
       "      <td>7</td>\n",
       "      <td>SAH</td>\n",
       "      <td>0</td>\n",
       "      <td>2</td>\n",
       "      <td>Indeterminate</td>\n",
       "      <td>1</td>\n",
       "      <td>Western Sahara</td>\n",
       "      <td>SAH</td>\n",
       "      <td>...</td>\n",
       "      <td>Unrecognized</td>\n",
       "      <td>Unrecognized</td>\n",
       "      <td>0</td>\n",
       "      <td>0</td>\n",
       "      <td>Unrecognized</td>\n",
       "      <td>0</td>\n",
       "      <td>0</td>\n",
       "      <td>0</td>\n",
       "      <td>POLYGON ((-8.66559 27.65643, -8.66512 27.58948...</td>\n",
       "      <td>0.000</td>\n",
       "    </tr>\n",
       "    <tr>\n",
       "      <th>Canada</th>\n",
       "      <td>Admin-0 country</td>\n",
       "      <td>1</td>\n",
       "      <td>2</td>\n",
       "      <td>CAN</td>\n",
       "      <td>0</td>\n",
       "      <td>2</td>\n",
       "      <td>Sovereign country</td>\n",
       "      <td>1</td>\n",
       "      <td>Canada</td>\n",
       "      <td>CAN</td>\n",
       "      <td>...</td>\n",
       "      <td>0</td>\n",
       "      <td>0</td>\n",
       "      <td>0</td>\n",
       "      <td>0</td>\n",
       "      <td>0</td>\n",
       "      <td>0</td>\n",
       "      <td>0</td>\n",
       "      <td>0</td>\n",
       "      <td>MULTIPOLYGON (((-122.84 49, -122.97421 49.0025...</td>\n",
       "      <td>45402.000</td>\n",
       "    </tr>\n",
       "    <tr>\n",
       "      <th>United States of America</th>\n",
       "      <td>Admin-0 country</td>\n",
       "      <td>1</td>\n",
       "      <td>2</td>\n",
       "      <td>US1</td>\n",
       "      <td>1</td>\n",
       "      <td>2</td>\n",
       "      <td>Country</td>\n",
       "      <td>1</td>\n",
       "      <td>United States of America</td>\n",
       "      <td>USA</td>\n",
       "      <td>...</td>\n",
       "      <td>0</td>\n",
       "      <td>0</td>\n",
       "      <td>0</td>\n",
       "      <td>0</td>\n",
       "      <td>0</td>\n",
       "      <td>0</td>\n",
       "      <td>0</td>\n",
       "      <td>0</td>\n",
       "      <td>MULTIPOLYGON (((-122.84 49, -120 49, -117.0312...</td>\n",
       "      <td>1887700.000</td>\n",
       "    </tr>\n",
       "    <tr>\n",
       "      <th>...</th>\n",
       "      <td>...</td>\n",
       "      <td>...</td>\n",
       "      <td>...</td>\n",
       "      <td>...</td>\n",
       "      <td>...</td>\n",
       "      <td>...</td>\n",
       "      <td>...</td>\n",
       "      <td>...</td>\n",
       "      <td>...</td>\n",
       "      <td>...</td>\n",
       "      <td>...</td>\n",
       "      <td>...</td>\n",
       "      <td>...</td>\n",
       "      <td>...</td>\n",
       "      <td>...</td>\n",
       "      <td>...</td>\n",
       "      <td>...</td>\n",
       "      <td>...</td>\n",
       "      <td>...</td>\n",
       "      <td>...</td>\n",
       "      <td>...</td>\n",
       "    </tr>\n",
       "    <tr>\n",
       "      <th>Republic of Serbia</th>\n",
       "      <td>Admin-0 country</td>\n",
       "      <td>1</td>\n",
       "      <td>5</td>\n",
       "      <td>SRB</td>\n",
       "      <td>0</td>\n",
       "      <td>2</td>\n",
       "      <td>Sovereign country</td>\n",
       "      <td>1</td>\n",
       "      <td>Republic of Serbia</td>\n",
       "      <td>SRB</td>\n",
       "      <td>...</td>\n",
       "      <td>0</td>\n",
       "      <td>0</td>\n",
       "      <td>0</td>\n",
       "      <td>0</td>\n",
       "      <td>0</td>\n",
       "      <td>0</td>\n",
       "      <td>0</td>\n",
       "      <td>0</td>\n",
       "      <td>POLYGON ((18.82982 45.90887, 18.82984 45.90888...</td>\n",
       "      <td>0.000</td>\n",
       "    </tr>\n",
       "    <tr>\n",
       "      <th>Montenegro</th>\n",
       "      <td>Admin-0 country</td>\n",
       "      <td>1</td>\n",
       "      <td>6</td>\n",
       "      <td>MNE</td>\n",
       "      <td>0</td>\n",
       "      <td>2</td>\n",
       "      <td>Sovereign country</td>\n",
       "      <td>1</td>\n",
       "      <td>Montenegro</td>\n",
       "      <td>MNE</td>\n",
       "      <td>...</td>\n",
       "      <td>0</td>\n",
       "      <td>0</td>\n",
       "      <td>0</td>\n",
       "      <td>0</td>\n",
       "      <td>0</td>\n",
       "      <td>0</td>\n",
       "      <td>0</td>\n",
       "      <td>0</td>\n",
       "      <td>POLYGON ((20.0707 42.58863, 19.80161 42.50009,...</td>\n",
       "      <td>14754.045</td>\n",
       "    </tr>\n",
       "    <tr>\n",
       "      <th>Kosovo</th>\n",
       "      <td>Admin-0 country</td>\n",
       "      <td>1</td>\n",
       "      <td>6</td>\n",
       "      <td>KOS</td>\n",
       "      <td>0</td>\n",
       "      <td>2</td>\n",
       "      <td>Disputed</td>\n",
       "      <td>1</td>\n",
       "      <td>Kosovo</td>\n",
       "      <td>KOS</td>\n",
       "      <td>...</td>\n",
       "      <td>Unrecognized</td>\n",
       "      <td>Admin-0 country</td>\n",
       "      <td>Unrecognized</td>\n",
       "      <td>Admin-0 country</td>\n",
       "      <td>Admin-0 country</td>\n",
       "      <td>Admin-0 country</td>\n",
       "      <td>Admin-0 country</td>\n",
       "      <td>Unrecognized</td>\n",
       "      <td>POLYGON ((20.59025 41.85541, 20.52295 42.21787...</td>\n",
       "      <td>0.000</td>\n",
       "    </tr>\n",
       "    <tr>\n",
       "      <th>Trinidad and Tobago</th>\n",
       "      <td>Admin-0 country</td>\n",
       "      <td>1</td>\n",
       "      <td>5</td>\n",
       "      <td>TTO</td>\n",
       "      <td>0</td>\n",
       "      <td>2</td>\n",
       "      <td>Sovereign country</td>\n",
       "      <td>1</td>\n",
       "      <td>Trinidad and Tobago</td>\n",
       "      <td>TTO</td>\n",
       "      <td>...</td>\n",
       "      <td>0</td>\n",
       "      <td>0</td>\n",
       "      <td>0</td>\n",
       "      <td>0</td>\n",
       "      <td>0</td>\n",
       "      <td>0</td>\n",
       "      <td>0</td>\n",
       "      <td>0</td>\n",
       "      <td>POLYGON ((-61.68 10.76, -61.105 10.89, -60.895...</td>\n",
       "      <td>0.000</td>\n",
       "    </tr>\n",
       "    <tr>\n",
       "      <th>South Sudan</th>\n",
       "      <td>Admin-0 country</td>\n",
       "      <td>1</td>\n",
       "      <td>3</td>\n",
       "      <td>SDS</td>\n",
       "      <td>0</td>\n",
       "      <td>2</td>\n",
       "      <td>Sovereign country</td>\n",
       "      <td>1</td>\n",
       "      <td>South Sudan</td>\n",
       "      <td>SDS</td>\n",
       "      <td>...</td>\n",
       "      <td>0</td>\n",
       "      <td>0</td>\n",
       "      <td>0</td>\n",
       "      <td>0</td>\n",
       "      <td>0</td>\n",
       "      <td>0</td>\n",
       "      <td>0</td>\n",
       "      <td>0</td>\n",
       "      <td>POLYGON ((30.83385 3.50917, 29.9535 4.1737, 29...</td>\n",
       "      <td>0.000</td>\n",
       "    </tr>\n",
       "  </tbody>\n",
       "</table>\n",
       "<p>177 rows × 169 columns</p>\n",
       "</div>"
      ]
     },
     "execution_count": 39,
     "metadata": {},
     "output_type": "execute_result"
    }
   ],
   "execution_count": 39
  },
  {
   "metadata": {
    "ExecuteTime": {
     "end_time": "2025-01-30T10:20:31.353905Z",
     "start_time": "2025-01-30T10:20:31.324661Z"
    }
   },
   "cell_type": "code",
   "source": "merged[merged['Wine'] == 0]",
   "id": "d0a92e0b6570b106",
   "outputs": [
    {
     "data": {
      "text/plain": [
       "                                  featurecla  scalerank  LABELRANK SOV_A3  \\\n",
       "SOVEREIGNT                                                                  \n",
       "Fiji                         Admin-0 country          1          6    FJI   \n",
       "United Republic of Tanzania  Admin-0 country          1          3    TZA   \n",
       "Western Sahara               Admin-0 country          1          7    SAH   \n",
       "Papua New Guinea             Admin-0 country          1          2    PNG   \n",
       "Indonesia                    Admin-0 country          1          2    IDN   \n",
       "...                                      ...        ...        ...    ...   \n",
       "Rwanda                       Admin-0 country          1          3    RWA   \n",
       "Republic of Serbia           Admin-0 country          1          5    SRB   \n",
       "Kosovo                       Admin-0 country          1          6    KOS   \n",
       "Trinidad and Tobago          Admin-0 country          1          5    TTO   \n",
       "South Sudan                  Admin-0 country          1          3    SDS   \n",
       "\n",
       "                             ADM0_DIF  LEVEL               TYPE TLC  \\\n",
       "SOVEREIGNT                                                            \n",
       "Fiji                                0      2  Sovereign country   1   \n",
       "United Republic of Tanzania         0      2  Sovereign country   1   \n",
       "Western Sahara                      0      2      Indeterminate   1   \n",
       "Papua New Guinea                    0      2  Sovereign country   1   \n",
       "Indonesia                           0      2  Sovereign country   1   \n",
       "...                               ...    ...                ...  ..   \n",
       "Rwanda                              0      2  Sovereign country   1   \n",
       "Republic of Serbia                  0      2  Sovereign country   1   \n",
       "Kosovo                              0      2           Disputed   1   \n",
       "Trinidad and Tobago                 0      2  Sovereign country   1   \n",
       "South Sudan                         0      2  Sovereign country   1   \n",
       "\n",
       "                                                   ADMIN ADM0_A3  ...  \\\n",
       "SOVEREIGNT                                                        ...   \n",
       "Fiji                                                Fiji     FJI  ...   \n",
       "United Republic of Tanzania  United Republic of Tanzania     TZA  ...   \n",
       "Western Sahara                            Western Sahara     SAH  ...   \n",
       "Papua New Guinea                        Papua New Guinea     PNG  ...   \n",
       "Indonesia                                      Indonesia     IDN  ...   \n",
       "...                                                  ...     ...  ...   \n",
       "Rwanda                                            Rwanda     RWA  ...   \n",
       "Republic of Serbia                    Republic of Serbia     SRB  ...   \n",
       "Kosovo                                            Kosovo     KOS  ...   \n",
       "Trinidad and Tobago                  Trinidad and Tobago     TTO  ...   \n",
       "South Sudan                                  South Sudan     SDS  ...   \n",
       "\n",
       "                                FCLASS_ID        FCLASS_PL     FCLASS_GR  \\\n",
       "SOVEREIGNT                                                                 \n",
       "Fiji                                    0                0             0   \n",
       "United Republic of Tanzania             0                0             0   \n",
       "Western Sahara               Unrecognized     Unrecognized             0   \n",
       "Papua New Guinea                        0                0             0   \n",
       "Indonesia                               0                0             0   \n",
       "...                                   ...              ...           ...   \n",
       "Rwanda                                  0                0             0   \n",
       "Republic of Serbia                      0                0             0   \n",
       "Kosovo                       Unrecognized  Admin-0 country  Unrecognized   \n",
       "Trinidad and Tobago                     0                0             0   \n",
       "South Sudan                             0                0             0   \n",
       "\n",
       "                                   FCLASS_IT        FCLASS_NL  \\\n",
       "SOVEREIGNT                                                      \n",
       "Fiji                                       0                0   \n",
       "United Republic of Tanzania                0                0   \n",
       "Western Sahara                             0     Unrecognized   \n",
       "Papua New Guinea                           0                0   \n",
       "Indonesia                                  0                0   \n",
       "...                                      ...              ...   \n",
       "Rwanda                                     0                0   \n",
       "Republic of Serbia                         0                0   \n",
       "Kosovo                       Admin-0 country  Admin-0 country   \n",
       "Trinidad and Tobago                        0                0   \n",
       "South Sudan                                0                0   \n",
       "\n",
       "                                   FCLASS_SE        FCLASS_BD     FCLASS_UA  \\\n",
       "SOVEREIGNT                                                                    \n",
       "Fiji                                       0                0             0   \n",
       "United Republic of Tanzania                0                0             0   \n",
       "Western Sahara                             0                0             0   \n",
       "Papua New Guinea                           0                0             0   \n",
       "Indonesia                                  0                0             0   \n",
       "...                                      ...              ...           ...   \n",
       "Rwanda                                     0                0             0   \n",
       "Republic of Serbia                         0                0             0   \n",
       "Kosovo                       Admin-0 country  Admin-0 country  Unrecognized   \n",
       "Trinidad and Tobago                        0                0             0   \n",
       "South Sudan                                0                0             0   \n",
       "\n",
       "                                                                      geometry  \\\n",
       "SOVEREIGNT                                                                       \n",
       "Fiji                         MULTIPOLYGON (((180 -16.06713, 180 -16.55522, ...   \n",
       "United Republic of Tanzania  POLYGON ((33.90371 -0.95, 34.07262 -1.05982, 3...   \n",
       "Western Sahara               POLYGON ((-8.66559 27.65643, -8.66512 27.58948...   \n",
       "Papua New Guinea             MULTIPOLYGON (((141.00021 -2.60015, 142.73525 ...   \n",
       "Indonesia                    MULTIPOLYGON (((141.00021 -2.60015, 141.01706 ...   \n",
       "...                                                                        ...   \n",
       "Rwanda                       POLYGON ((30.4191 -1.13466, 30.81613 -1.69891,...   \n",
       "Republic of Serbia           POLYGON ((18.82982 45.90887, 18.82984 45.90888...   \n",
       "Kosovo                       POLYGON ((20.59025 41.85541, 20.52295 42.21787...   \n",
       "Trinidad and Tobago          POLYGON ((-61.68 10.76, -61.105 10.89, -60.895...   \n",
       "South Sudan                  POLYGON ((30.83385 3.50917, 29.9535 4.1737, 29...   \n",
       "\n",
       "                            Wine  \n",
       "SOVEREIGNT                        \n",
       "Fiji                         0.0  \n",
       "United Republic of Tanzania  0.0  \n",
       "Western Sahara               0.0  \n",
       "Papua New Guinea             0.0  \n",
       "Indonesia                    0.0  \n",
       "...                          ...  \n",
       "Rwanda                       0.0  \n",
       "Republic of Serbia           0.0  \n",
       "Kosovo                       0.0  \n",
       "Trinidad and Tobago          0.0  \n",
       "South Sudan                  0.0  \n",
       "\n",
       "[106 rows x 169 columns]"
      ],
      "text/html": [
       "<div>\n",
       "<style scoped>\n",
       "    .dataframe tbody tr th:only-of-type {\n",
       "        vertical-align: middle;\n",
       "    }\n",
       "\n",
       "    .dataframe tbody tr th {\n",
       "        vertical-align: top;\n",
       "    }\n",
       "\n",
       "    .dataframe thead th {\n",
       "        text-align: right;\n",
       "    }\n",
       "</style>\n",
       "<table border=\"1\" class=\"dataframe\">\n",
       "  <thead>\n",
       "    <tr style=\"text-align: right;\">\n",
       "      <th></th>\n",
       "      <th>featurecla</th>\n",
       "      <th>scalerank</th>\n",
       "      <th>LABELRANK</th>\n",
       "      <th>SOV_A3</th>\n",
       "      <th>ADM0_DIF</th>\n",
       "      <th>LEVEL</th>\n",
       "      <th>TYPE</th>\n",
       "      <th>TLC</th>\n",
       "      <th>ADMIN</th>\n",
       "      <th>ADM0_A3</th>\n",
       "      <th>...</th>\n",
       "      <th>FCLASS_ID</th>\n",
       "      <th>FCLASS_PL</th>\n",
       "      <th>FCLASS_GR</th>\n",
       "      <th>FCLASS_IT</th>\n",
       "      <th>FCLASS_NL</th>\n",
       "      <th>FCLASS_SE</th>\n",
       "      <th>FCLASS_BD</th>\n",
       "      <th>FCLASS_UA</th>\n",
       "      <th>geometry</th>\n",
       "      <th>Wine</th>\n",
       "    </tr>\n",
       "    <tr>\n",
       "      <th>SOVEREIGNT</th>\n",
       "      <th></th>\n",
       "      <th></th>\n",
       "      <th></th>\n",
       "      <th></th>\n",
       "      <th></th>\n",
       "      <th></th>\n",
       "      <th></th>\n",
       "      <th></th>\n",
       "      <th></th>\n",
       "      <th></th>\n",
       "      <th></th>\n",
       "      <th></th>\n",
       "      <th></th>\n",
       "      <th></th>\n",
       "      <th></th>\n",
       "      <th></th>\n",
       "      <th></th>\n",
       "      <th></th>\n",
       "      <th></th>\n",
       "      <th></th>\n",
       "      <th></th>\n",
       "    </tr>\n",
       "  </thead>\n",
       "  <tbody>\n",
       "    <tr>\n",
       "      <th>Fiji</th>\n",
       "      <td>Admin-0 country</td>\n",
       "      <td>1</td>\n",
       "      <td>6</td>\n",
       "      <td>FJI</td>\n",
       "      <td>0</td>\n",
       "      <td>2</td>\n",
       "      <td>Sovereign country</td>\n",
       "      <td>1</td>\n",
       "      <td>Fiji</td>\n",
       "      <td>FJI</td>\n",
       "      <td>...</td>\n",
       "      <td>0</td>\n",
       "      <td>0</td>\n",
       "      <td>0</td>\n",
       "      <td>0</td>\n",
       "      <td>0</td>\n",
       "      <td>0</td>\n",
       "      <td>0</td>\n",
       "      <td>0</td>\n",
       "      <td>MULTIPOLYGON (((180 -16.06713, 180 -16.55522, ...</td>\n",
       "      <td>0.0</td>\n",
       "    </tr>\n",
       "    <tr>\n",
       "      <th>United Republic of Tanzania</th>\n",
       "      <td>Admin-0 country</td>\n",
       "      <td>1</td>\n",
       "      <td>3</td>\n",
       "      <td>TZA</td>\n",
       "      <td>0</td>\n",
       "      <td>2</td>\n",
       "      <td>Sovereign country</td>\n",
       "      <td>1</td>\n",
       "      <td>United Republic of Tanzania</td>\n",
       "      <td>TZA</td>\n",
       "      <td>...</td>\n",
       "      <td>0</td>\n",
       "      <td>0</td>\n",
       "      <td>0</td>\n",
       "      <td>0</td>\n",
       "      <td>0</td>\n",
       "      <td>0</td>\n",
       "      <td>0</td>\n",
       "      <td>0</td>\n",
       "      <td>POLYGON ((33.90371 -0.95, 34.07262 -1.05982, 3...</td>\n",
       "      <td>0.0</td>\n",
       "    </tr>\n",
       "    <tr>\n",
       "      <th>Western Sahara</th>\n",
       "      <td>Admin-0 country</td>\n",
       "      <td>1</td>\n",
       "      <td>7</td>\n",
       "      <td>SAH</td>\n",
       "      <td>0</td>\n",
       "      <td>2</td>\n",
       "      <td>Indeterminate</td>\n",
       "      <td>1</td>\n",
       "      <td>Western Sahara</td>\n",
       "      <td>SAH</td>\n",
       "      <td>...</td>\n",
       "      <td>Unrecognized</td>\n",
       "      <td>Unrecognized</td>\n",
       "      <td>0</td>\n",
       "      <td>0</td>\n",
       "      <td>Unrecognized</td>\n",
       "      <td>0</td>\n",
       "      <td>0</td>\n",
       "      <td>0</td>\n",
       "      <td>POLYGON ((-8.66559 27.65643, -8.66512 27.58948...</td>\n",
       "      <td>0.0</td>\n",
       "    </tr>\n",
       "    <tr>\n",
       "      <th>Papua New Guinea</th>\n",
       "      <td>Admin-0 country</td>\n",
       "      <td>1</td>\n",
       "      <td>2</td>\n",
       "      <td>PNG</td>\n",
       "      <td>0</td>\n",
       "      <td>2</td>\n",
       "      <td>Sovereign country</td>\n",
       "      <td>1</td>\n",
       "      <td>Papua New Guinea</td>\n",
       "      <td>PNG</td>\n",
       "      <td>...</td>\n",
       "      <td>0</td>\n",
       "      <td>0</td>\n",
       "      <td>0</td>\n",
       "      <td>0</td>\n",
       "      <td>0</td>\n",
       "      <td>0</td>\n",
       "      <td>0</td>\n",
       "      <td>0</td>\n",
       "      <td>MULTIPOLYGON (((141.00021 -2.60015, 142.73525 ...</td>\n",
       "      <td>0.0</td>\n",
       "    </tr>\n",
       "    <tr>\n",
       "      <th>Indonesia</th>\n",
       "      <td>Admin-0 country</td>\n",
       "      <td>1</td>\n",
       "      <td>2</td>\n",
       "      <td>IDN</td>\n",
       "      <td>0</td>\n",
       "      <td>2</td>\n",
       "      <td>Sovereign country</td>\n",
       "      <td>1</td>\n",
       "      <td>Indonesia</td>\n",
       "      <td>IDN</td>\n",
       "      <td>...</td>\n",
       "      <td>0</td>\n",
       "      <td>0</td>\n",
       "      <td>0</td>\n",
       "      <td>0</td>\n",
       "      <td>0</td>\n",
       "      <td>0</td>\n",
       "      <td>0</td>\n",
       "      <td>0</td>\n",
       "      <td>MULTIPOLYGON (((141.00021 -2.60015, 141.01706 ...</td>\n",
       "      <td>0.0</td>\n",
       "    </tr>\n",
       "    <tr>\n",
       "      <th>...</th>\n",
       "      <td>...</td>\n",
       "      <td>...</td>\n",
       "      <td>...</td>\n",
       "      <td>...</td>\n",
       "      <td>...</td>\n",
       "      <td>...</td>\n",
       "      <td>...</td>\n",
       "      <td>...</td>\n",
       "      <td>...</td>\n",
       "      <td>...</td>\n",
       "      <td>...</td>\n",
       "      <td>...</td>\n",
       "      <td>...</td>\n",
       "      <td>...</td>\n",
       "      <td>...</td>\n",
       "      <td>...</td>\n",
       "      <td>...</td>\n",
       "      <td>...</td>\n",
       "      <td>...</td>\n",
       "      <td>...</td>\n",
       "      <td>...</td>\n",
       "    </tr>\n",
       "    <tr>\n",
       "      <th>Rwanda</th>\n",
       "      <td>Admin-0 country</td>\n",
       "      <td>1</td>\n",
       "      <td>3</td>\n",
       "      <td>RWA</td>\n",
       "      <td>0</td>\n",
       "      <td>2</td>\n",
       "      <td>Sovereign country</td>\n",
       "      <td>1</td>\n",
       "      <td>Rwanda</td>\n",
       "      <td>RWA</td>\n",
       "      <td>...</td>\n",
       "      <td>0</td>\n",
       "      <td>0</td>\n",
       "      <td>0</td>\n",
       "      <td>0</td>\n",
       "      <td>0</td>\n",
       "      <td>0</td>\n",
       "      <td>0</td>\n",
       "      <td>0</td>\n",
       "      <td>POLYGON ((30.4191 -1.13466, 30.81613 -1.69891,...</td>\n",
       "      <td>0.0</td>\n",
       "    </tr>\n",
       "    <tr>\n",
       "      <th>Republic of Serbia</th>\n",
       "      <td>Admin-0 country</td>\n",
       "      <td>1</td>\n",
       "      <td>5</td>\n",
       "      <td>SRB</td>\n",
       "      <td>0</td>\n",
       "      <td>2</td>\n",
       "      <td>Sovereign country</td>\n",
       "      <td>1</td>\n",
       "      <td>Republic of Serbia</td>\n",
       "      <td>SRB</td>\n",
       "      <td>...</td>\n",
       "      <td>0</td>\n",
       "      <td>0</td>\n",
       "      <td>0</td>\n",
       "      <td>0</td>\n",
       "      <td>0</td>\n",
       "      <td>0</td>\n",
       "      <td>0</td>\n",
       "      <td>0</td>\n",
       "      <td>POLYGON ((18.82982 45.90887, 18.82984 45.90888...</td>\n",
       "      <td>0.0</td>\n",
       "    </tr>\n",
       "    <tr>\n",
       "      <th>Kosovo</th>\n",
       "      <td>Admin-0 country</td>\n",
       "      <td>1</td>\n",
       "      <td>6</td>\n",
       "      <td>KOS</td>\n",
       "      <td>0</td>\n",
       "      <td>2</td>\n",
       "      <td>Disputed</td>\n",
       "      <td>1</td>\n",
       "      <td>Kosovo</td>\n",
       "      <td>KOS</td>\n",
       "      <td>...</td>\n",
       "      <td>Unrecognized</td>\n",
       "      <td>Admin-0 country</td>\n",
       "      <td>Unrecognized</td>\n",
       "      <td>Admin-0 country</td>\n",
       "      <td>Admin-0 country</td>\n",
       "      <td>Admin-0 country</td>\n",
       "      <td>Admin-0 country</td>\n",
       "      <td>Unrecognized</td>\n",
       "      <td>POLYGON ((20.59025 41.85541, 20.52295 42.21787...</td>\n",
       "      <td>0.0</td>\n",
       "    </tr>\n",
       "    <tr>\n",
       "      <th>Trinidad and Tobago</th>\n",
       "      <td>Admin-0 country</td>\n",
       "      <td>1</td>\n",
       "      <td>5</td>\n",
       "      <td>TTO</td>\n",
       "      <td>0</td>\n",
       "      <td>2</td>\n",
       "      <td>Sovereign country</td>\n",
       "      <td>1</td>\n",
       "      <td>Trinidad and Tobago</td>\n",
       "      <td>TTO</td>\n",
       "      <td>...</td>\n",
       "      <td>0</td>\n",
       "      <td>0</td>\n",
       "      <td>0</td>\n",
       "      <td>0</td>\n",
       "      <td>0</td>\n",
       "      <td>0</td>\n",
       "      <td>0</td>\n",
       "      <td>0</td>\n",
       "      <td>POLYGON ((-61.68 10.76, -61.105 10.89, -60.895...</td>\n",
       "      <td>0.0</td>\n",
       "    </tr>\n",
       "    <tr>\n",
       "      <th>South Sudan</th>\n",
       "      <td>Admin-0 country</td>\n",
       "      <td>1</td>\n",
       "      <td>3</td>\n",
       "      <td>SDS</td>\n",
       "      <td>0</td>\n",
       "      <td>2</td>\n",
       "      <td>Sovereign country</td>\n",
       "      <td>1</td>\n",
       "      <td>South Sudan</td>\n",
       "      <td>SDS</td>\n",
       "      <td>...</td>\n",
       "      <td>0</td>\n",
       "      <td>0</td>\n",
       "      <td>0</td>\n",
       "      <td>0</td>\n",
       "      <td>0</td>\n",
       "      <td>0</td>\n",
       "      <td>0</td>\n",
       "      <td>0</td>\n",
       "      <td>POLYGON ((30.83385 3.50917, 29.9535 4.1737, 29...</td>\n",
       "      <td>0.0</td>\n",
       "    </tr>\n",
       "  </tbody>\n",
       "</table>\n",
       "<p>106 rows × 169 columns</p>\n",
       "</div>"
      ]
     },
     "execution_count": 40,
     "metadata": {},
     "output_type": "execute_result"
    }
   ],
   "execution_count": 40
  },
  {
   "metadata": {
    "ExecuteTime": {
     "end_time": "2025-01-30T10:20:31.644838Z",
     "start_time": "2025-01-30T10:20:31.637341Z"
    }
   },
   "cell_type": "code",
   "source": "wineprod_treated_df[wineprod_treated_df['Entity'] == 'Belize']",
   "id": "faecfba6febed056",
   "outputs": [
    {
     "data": {
      "text/plain": [
       "Empty DataFrame\n",
       "Columns: [Entity, Wine]\n",
       "Index: []"
      ],
      "text/html": [
       "<div>\n",
       "<style scoped>\n",
       "    .dataframe tbody tr th:only-of-type {\n",
       "        vertical-align: middle;\n",
       "    }\n",
       "\n",
       "    .dataframe tbody tr th {\n",
       "        vertical-align: top;\n",
       "    }\n",
       "\n",
       "    .dataframe thead th {\n",
       "        text-align: right;\n",
       "    }\n",
       "</style>\n",
       "<table border=\"1\" class=\"dataframe\">\n",
       "  <thead>\n",
       "    <tr style=\"text-align: right;\">\n",
       "      <th></th>\n",
       "      <th>Entity</th>\n",
       "      <th>Wine</th>\n",
       "    </tr>\n",
       "  </thead>\n",
       "  <tbody>\n",
       "  </tbody>\n",
       "</table>\n",
       "</div>"
      ]
     },
     "execution_count": 41,
     "metadata": {},
     "output_type": "execute_result"
    }
   ],
   "execution_count": 41
  },
  {
   "metadata": {},
   "cell_type": "markdown",
   "source": "wineprod_treated_df[wineprod_treated_df['Wine'] == 0]",
   "id": "12b6390c884a041"
  },
  {
   "metadata": {},
   "cell_type": "markdown",
   "source": [
    "df1_zero_prod = wineprod_treated_df[wineprod_treated_df['Wine'] == 0]['Entity']\n",
    "df2_zero_prod = merged[merged['Wine'] == 0]['SOVEREIGNT']\n",
    "\n",
    "# Trouver les pays communs avec une production de 0 dans les deux dataframes\n",
    "common_zero_prod = df1_zero_prod[df1_zero_prod.isin(df2_zero_prod)]\n",
    "\n",
    "# Supprimer ces pays des deux dataframes\n",
    "df1_cleaned = wineprod_treated_df[~wineprod_treated_df['Entity'].isin(common_zero_prod)]\n",
    "df2_cleaned = merged[~merged['SOVEREIGNT'].isin(common_zero_prod)]"
   ],
   "id": "dad60324b53021f1"
  },
  {
   "metadata": {
    "ExecuteTime": {
     "end_time": "2025-01-30T10:49:41.717579Z",
     "start_time": "2025-01-30T10:49:41.671039Z"
    }
   },
   "cell_type": "code",
   "source": [
    "colors = [\n",
    "    (0, 'blue'),               # 0 -> bleu\n",
    "    (10000, 'lightblue'),      # 10k -> bleu clair\n",
    "    (500000, 'purple'),        # 500k -> violet\n",
    "    (1000000, 'pink'),         # 1M -> rose\n",
    "    (2000000, 'orange'),      # 2M -> orange\n",
    "    (5000000, 'yellow')      # 10M -> jaune\n",
    "]\n",
    "\n",
    "# Créer une liste des positions de normalisation pour les valeurs (0 à 1)\n",
    "positions = [0, 10000, 500000, 1000000, 2000000, 5000000]\n",
    "\n",
    "# Normaliser les positions pour plotly\n",
    "normalized_colors = [color[1] for color in colors]\n",
    "normalized_positions = [pos / max(positions) for pos in positions]\n",
    "\n",
    "# Créer une liste de couleurs à partir des positions normalisées pour plotly\n",
    "color_scale = list(zip(normalized_positions, normalized_colors))\n",
    "\n",
    "# Exemple de données, vous devez adapter 'merged' à vos données réelles\n",
    "# merged = ...\n",
    "\n",
    "fig = px.choropleth(merged, \n",
    "                    locations='ADMIN', \n",
    "                    locationmode='country names',  # Mode pour correspondre aux pays\n",
    "                    color='Wine', \n",
    "                    color_continuous_scale=color_scale,  # Utilisation de la colormap personnalisée\n",
    "                    range_color=[0, 5000000],\n",
    "                    labels={'Wine': 'Production de vin'},\n",
    "                    title=\"Production de vin par pays\")\n",
    "\n",
    "# Affichage de la carte\n",
    "fig.show()"
   ],
   "id": "f379e89e824c2aca",
   "outputs": [
    {
     "data": {
      "application/vnd.plotly.v1+json": {
       "data": [
        {
         "coloraxis": "coloraxis",
         "geo": "geo",
         "hovertemplate": "ADMIN=%{location}<br>Production de vin=%{z}<extra></extra>",
         "locationmode": "country names",
         "locations": [
          "Fiji",
          "United Republic of Tanzania",
          "Western Sahara",
          "Canada",
          "United States of America",
          "Kazakhstan",
          "Uzbekistan",
          "Papua New Guinea",
          "Indonesia",
          "Argentina",
          "Chile",
          "Democratic Republic of the Congo",
          "Somalia",
          "Kenya",
          "Sudan",
          "Chad",
          "Haiti",
          "Dominican Republic",
          "Russia",
          "The Bahamas",
          "Falkland Islands",
          "Norway",
          "Greenland",
          "French Southern and Antarctic Lands",
          "East Timor",
          "South Africa",
          "Lesotho",
          "Mexico",
          "Uruguay",
          "Brazil",
          "Bolivia",
          "Peru",
          "Colombia",
          "Panama",
          "Costa Rica",
          "Nicaragua",
          "Honduras",
          "El Salvador",
          "Guatemala",
          "Belize",
          "Venezuela",
          "Guyana",
          "Suriname",
          "France",
          "Ecuador",
          "Puerto Rico",
          "Jamaica",
          "Cuba",
          "Zimbabwe",
          "Botswana",
          "Namibia",
          "Senegal",
          "Mali",
          "Mauritania",
          "Benin",
          "Niger",
          "Nigeria",
          "Cameroon",
          "Togo",
          "Ghana",
          "Ivory Coast",
          "Guinea",
          "Guinea-Bissau",
          "Liberia",
          "Sierra Leone",
          "Burkina Faso",
          "Central African Republic",
          "Republic of the Congo",
          "Gabon",
          "Equatorial Guinea",
          "Zambia",
          "Malawi",
          "Mozambique",
          "eSwatini",
          "Angola",
          "Burundi",
          "Israel",
          "Lebanon",
          "Madagascar",
          "Palestine",
          "Gambia",
          "Tunisia",
          "Algeria",
          "Jordan",
          "United Arab Emirates",
          "Qatar",
          "Kuwait",
          "Iraq",
          "Oman",
          "Vanuatu",
          "Cambodia",
          "Thailand",
          "Laos",
          "Myanmar",
          "Vietnam",
          "North Korea",
          "South Korea",
          "Mongolia",
          "India",
          "Bangladesh",
          "Bhutan",
          "Nepal",
          "Pakistan",
          "Afghanistan",
          "Tajikistan",
          "Kyrgyzstan",
          "Turkmenistan",
          "Iran",
          "Syria",
          "Armenia",
          "Sweden",
          "Belarus",
          "Ukraine",
          "Poland",
          "Austria",
          "Hungary",
          "Moldova",
          "Romania",
          "Lithuania",
          "Latvia",
          "Estonia",
          "Germany",
          "Bulgaria",
          "Greece",
          "Turkey",
          "Albania",
          "Croatia",
          "Switzerland",
          "Luxembourg",
          "Belgium",
          "Netherlands",
          "Portugal",
          "Spain",
          "Ireland",
          "New Caledonia",
          "Solomon Islands",
          "New Zealand",
          "Australia",
          "Sri Lanka",
          "China",
          "Taiwan",
          "Italy",
          "Denmark",
          "United Kingdom",
          "Iceland",
          "Azerbaijan",
          "Georgia",
          "Philippines",
          "Malaysia",
          "Brunei",
          "Slovenia",
          "Finland",
          "Slovakia",
          "Czechia",
          "Eritrea",
          "Japan",
          "Paraguay",
          "Yemen",
          "Saudi Arabia",
          "Antarctica",
          "Northern Cyprus",
          "Cyprus",
          "Morocco",
          "Egypt",
          "Libya",
          "Ethiopia",
          "Djibouti",
          "Somaliland",
          "Uganda",
          "Rwanda",
          "Bosnia and Herzegovina",
          "North Macedonia",
          "Republic of Serbia",
          "Montenegro",
          "Kosovo",
          "Trinidad and Tobago",
          "South Sudan"
         ],
         "name": "",
         "z": [
          0.0,
          0.0,
          0.0,
          45402.0,
          1887700.0,
          21303.0,
          34772.35,
          0.0,
          0.0,
          1608826.0,
          553300.0,
          0.0,
          0.0,
          0.0,
          0.0,
          0.0,
          0.0,
          0.0,
          434500.0,
          0.0,
          600.0,
          0.0,
          0.0,
          5752370.0,
          0.0,
          770009.0,
          0.0,
          84834.04,
          82000.0,
          270000.0,
          2048.0,
          10584.0,
          0.0,
          151.0,
          0.0,
          0.0,
          0.0,
          0.0,
          0.0,
          0.0,
          0.0,
          0.0,
          0.0,
          5752370.0,
          0.0,
          1887700.0,
          0.0,
          0.0,
          1190.0,
          0.0,
          0.0,
          0.0,
          0.0,
          0.0,
          0.0,
          0.0,
          0.0,
          0.0,
          0.0,
          0.0,
          0.0,
          0.0,
          0.0,
          0.0,
          0.0,
          0.0,
          0.0,
          0.0,
          0.0,
          0.0,
          0.0,
          0.0,
          0.0,
          0.0,
          0.0,
          0.0,
          12200.0,
          9320.0,
          6100.0,
          12200.0,
          0.0,
          37221.0,
          87500.0,
          0.0,
          0.0,
          0.0,
          0.0,
          0.0,
          0.0,
          0.0,
          0.0,
          514.3499999999999,
          0.0,
          0.0,
          0.0,
          0.0,
          0.0,
          110.3,
          0.0,
          0.0,
          0.0,
          0.0,
          0.0,
          0.0,
          345.0,
          2056.2,
          39300.0,
          0.0,
          235.0,
          6307.0,
          0.0,
          20030.0,
          173500.0,
          0.0,
          247724.0,
          388002.0,
          160050.0,
          545700.0,
          4766.0,
          2200.0,
          0.0,
          888242.0,
          248046.0,
          400200.0,
          26724.0,
          15000.0,
          71650.0,
          104300.0,
          12429.5,
          3000.0,
          0.0,
          760000.0,
          3338800.0,
          0.0,
          5752370.0,
          0.0,
          47001.0,
          458501.0,
          0.0,
          309000.0,
          0.0,
          5927974.0,
          0.0,
          600.0,
          0.0,
          8564.0,
          90102.55,
          0.0,
          0.0,
          0.0,
          30279.5,
          0.0,
          36929.0,
          54600.0,
          0.0,
          56944.0,
          6000.0,
          0.0,
          0.0,
          0.0,
          0.0,
          41600.0,
          40808.03,
          2950.0,
          0.0,
          1070.68,
          0.0,
          0.0,
          0.0,
          0.0,
          5163.0,
          90838.5,
          0.0,
          14754.045,
          0.0,
          0.0,
          0.0
         ],
         "type": "choropleth"
        }
       ],
       "layout": {
        "template": {
         "data": {
          "histogram2dcontour": [
           {
            "type": "histogram2dcontour",
            "colorbar": {
             "outlinewidth": 0,
             "ticks": ""
            },
            "colorscale": [
             [
              0.0,
              "#0d0887"
             ],
             [
              0.1111111111111111,
              "#46039f"
             ],
             [
              0.2222222222222222,
              "#7201a8"
             ],
             [
              0.3333333333333333,
              "#9c179e"
             ],
             [
              0.4444444444444444,
              "#bd3786"
             ],
             [
              0.5555555555555556,
              "#d8576b"
             ],
             [
              0.6666666666666666,
              "#ed7953"
             ],
             [
              0.7777777777777778,
              "#fb9f3a"
             ],
             [
              0.8888888888888888,
              "#fdca26"
             ],
             [
              1.0,
              "#f0f921"
             ]
            ]
           }
          ],
          "choropleth": [
           {
            "type": "choropleth",
            "colorbar": {
             "outlinewidth": 0,
             "ticks": ""
            }
           }
          ],
          "histogram2d": [
           {
            "type": "histogram2d",
            "colorbar": {
             "outlinewidth": 0,
             "ticks": ""
            },
            "colorscale": [
             [
              0.0,
              "#0d0887"
             ],
             [
              0.1111111111111111,
              "#46039f"
             ],
             [
              0.2222222222222222,
              "#7201a8"
             ],
             [
              0.3333333333333333,
              "#9c179e"
             ],
             [
              0.4444444444444444,
              "#bd3786"
             ],
             [
              0.5555555555555556,
              "#d8576b"
             ],
             [
              0.6666666666666666,
              "#ed7953"
             ],
             [
              0.7777777777777778,
              "#fb9f3a"
             ],
             [
              0.8888888888888888,
              "#fdca26"
             ],
             [
              1.0,
              "#f0f921"
             ]
            ]
           }
          ],
          "heatmap": [
           {
            "type": "heatmap",
            "colorbar": {
             "outlinewidth": 0,
             "ticks": ""
            },
            "colorscale": [
             [
              0.0,
              "#0d0887"
             ],
             [
              0.1111111111111111,
              "#46039f"
             ],
             [
              0.2222222222222222,
              "#7201a8"
             ],
             [
              0.3333333333333333,
              "#9c179e"
             ],
             [
              0.4444444444444444,
              "#bd3786"
             ],
             [
              0.5555555555555556,
              "#d8576b"
             ],
             [
              0.6666666666666666,
              "#ed7953"
             ],
             [
              0.7777777777777778,
              "#fb9f3a"
             ],
             [
              0.8888888888888888,
              "#fdca26"
             ],
             [
              1.0,
              "#f0f921"
             ]
            ]
           }
          ],
          "heatmapgl": [
           {
            "type": "heatmapgl",
            "colorbar": {
             "outlinewidth": 0,
             "ticks": ""
            },
            "colorscale": [
             [
              0.0,
              "#0d0887"
             ],
             [
              0.1111111111111111,
              "#46039f"
             ],
             [
              0.2222222222222222,
              "#7201a8"
             ],
             [
              0.3333333333333333,
              "#9c179e"
             ],
             [
              0.4444444444444444,
              "#bd3786"
             ],
             [
              0.5555555555555556,
              "#d8576b"
             ],
             [
              0.6666666666666666,
              "#ed7953"
             ],
             [
              0.7777777777777778,
              "#fb9f3a"
             ],
             [
              0.8888888888888888,
              "#fdca26"
             ],
             [
              1.0,
              "#f0f921"
             ]
            ]
           }
          ],
          "contourcarpet": [
           {
            "type": "contourcarpet",
            "colorbar": {
             "outlinewidth": 0,
             "ticks": ""
            }
           }
          ],
          "contour": [
           {
            "type": "contour",
            "colorbar": {
             "outlinewidth": 0,
             "ticks": ""
            },
            "colorscale": [
             [
              0.0,
              "#0d0887"
             ],
             [
              0.1111111111111111,
              "#46039f"
             ],
             [
              0.2222222222222222,
              "#7201a8"
             ],
             [
              0.3333333333333333,
              "#9c179e"
             ],
             [
              0.4444444444444444,
              "#bd3786"
             ],
             [
              0.5555555555555556,
              "#d8576b"
             ],
             [
              0.6666666666666666,
              "#ed7953"
             ],
             [
              0.7777777777777778,
              "#fb9f3a"
             ],
             [
              0.8888888888888888,
              "#fdca26"
             ],
             [
              1.0,
              "#f0f921"
             ]
            ]
           }
          ],
          "surface": [
           {
            "type": "surface",
            "colorbar": {
             "outlinewidth": 0,
             "ticks": ""
            },
            "colorscale": [
             [
              0.0,
              "#0d0887"
             ],
             [
              0.1111111111111111,
              "#46039f"
             ],
             [
              0.2222222222222222,
              "#7201a8"
             ],
             [
              0.3333333333333333,
              "#9c179e"
             ],
             [
              0.4444444444444444,
              "#bd3786"
             ],
             [
              0.5555555555555556,
              "#d8576b"
             ],
             [
              0.6666666666666666,
              "#ed7953"
             ],
             [
              0.7777777777777778,
              "#fb9f3a"
             ],
             [
              0.8888888888888888,
              "#fdca26"
             ],
             [
              1.0,
              "#f0f921"
             ]
            ]
           }
          ],
          "mesh3d": [
           {
            "type": "mesh3d",
            "colorbar": {
             "outlinewidth": 0,
             "ticks": ""
            }
           }
          ],
          "scatter": [
           {
            "marker": {
             "line": {
              "color": "#283442"
             }
            },
            "type": "scatter"
           }
          ],
          "parcoords": [
           {
            "type": "parcoords",
            "line": {
             "colorbar": {
              "outlinewidth": 0,
              "ticks": ""
             }
            }
           }
          ],
          "scatterpolargl": [
           {
            "type": "scatterpolargl",
            "marker": {
             "colorbar": {
              "outlinewidth": 0,
              "ticks": ""
             }
            }
           }
          ],
          "bar": [
           {
            "error_x": {
             "color": "#f2f5fa"
            },
            "error_y": {
             "color": "#f2f5fa"
            },
            "marker": {
             "line": {
              "color": "rgb(17,17,17)",
              "width": 0.5
             },
             "pattern": {
              "fillmode": "overlay",
              "size": 10,
              "solidity": 0.2
             }
            },
            "type": "bar"
           }
          ],
          "scattergeo": [
           {
            "type": "scattergeo",
            "marker": {
             "colorbar": {
              "outlinewidth": 0,
              "ticks": ""
             }
            }
           }
          ],
          "scatterpolar": [
           {
            "type": "scatterpolar",
            "marker": {
             "colorbar": {
              "outlinewidth": 0,
              "ticks": ""
             }
            }
           }
          ],
          "histogram": [
           {
            "marker": {
             "pattern": {
              "fillmode": "overlay",
              "size": 10,
              "solidity": 0.2
             }
            },
            "type": "histogram"
           }
          ],
          "scattergl": [
           {
            "marker": {
             "line": {
              "color": "#283442"
             }
            },
            "type": "scattergl"
           }
          ],
          "scatter3d": [
           {
            "type": "scatter3d",
            "line": {
             "colorbar": {
              "outlinewidth": 0,
              "ticks": ""
             }
            },
            "marker": {
             "colorbar": {
              "outlinewidth": 0,
              "ticks": ""
             }
            }
           }
          ],
          "scattermapbox": [
           {
            "type": "scattermapbox",
            "marker": {
             "colorbar": {
              "outlinewidth": 0,
              "ticks": ""
             }
            }
           }
          ],
          "scatterternary": [
           {
            "type": "scatterternary",
            "marker": {
             "colorbar": {
              "outlinewidth": 0,
              "ticks": ""
             }
            }
           }
          ],
          "scattercarpet": [
           {
            "type": "scattercarpet",
            "marker": {
             "colorbar": {
              "outlinewidth": 0,
              "ticks": ""
             }
            }
           }
          ],
          "carpet": [
           {
            "aaxis": {
             "endlinecolor": "#A2B1C6",
             "gridcolor": "#506784",
             "linecolor": "#506784",
             "minorgridcolor": "#506784",
             "startlinecolor": "#A2B1C6"
            },
            "baxis": {
             "endlinecolor": "#A2B1C6",
             "gridcolor": "#506784",
             "linecolor": "#506784",
             "minorgridcolor": "#506784",
             "startlinecolor": "#A2B1C6"
            },
            "type": "carpet"
           }
          ],
          "table": [
           {
            "cells": {
             "fill": {
              "color": "#506784"
             },
             "line": {
              "color": "rgb(17,17,17)"
             }
            },
            "header": {
             "fill": {
              "color": "#2a3f5f"
             },
             "line": {
              "color": "rgb(17,17,17)"
             }
            },
            "type": "table"
           }
          ],
          "barpolar": [
           {
            "marker": {
             "line": {
              "color": "rgb(17,17,17)",
              "width": 0.5
             },
             "pattern": {
              "fillmode": "overlay",
              "size": 10,
              "solidity": 0.2
             }
            },
            "type": "barpolar"
           }
          ],
          "pie": [
           {
            "automargin": true,
            "type": "pie"
           }
          ]
         },
         "layout": {
          "autotypenumbers": "strict",
          "colorway": [
           "#636efa",
           "#EF553B",
           "#00cc96",
           "#ab63fa",
           "#FFA15A",
           "#19d3f3",
           "#FF6692",
           "#B6E880",
           "#FF97FF",
           "#FECB52"
          ],
          "font": {
           "color": "#f2f5fa"
          },
          "hovermode": "closest",
          "hoverlabel": {
           "align": "left"
          },
          "paper_bgcolor": "rgb(17,17,17)",
          "plot_bgcolor": "rgb(17,17,17)",
          "polar": {
           "bgcolor": "rgb(17,17,17)",
           "angularaxis": {
            "gridcolor": "#506784",
            "linecolor": "#506784",
            "ticks": ""
           },
           "radialaxis": {
            "gridcolor": "#506784",
            "linecolor": "#506784",
            "ticks": ""
           }
          },
          "ternary": {
           "bgcolor": "rgb(17,17,17)",
           "aaxis": {
            "gridcolor": "#506784",
            "linecolor": "#506784",
            "ticks": ""
           },
           "baxis": {
            "gridcolor": "#506784",
            "linecolor": "#506784",
            "ticks": ""
           },
           "caxis": {
            "gridcolor": "#506784",
            "linecolor": "#506784",
            "ticks": ""
           }
          },
          "coloraxis": {
           "colorbar": {
            "outlinewidth": 0,
            "ticks": ""
           }
          },
          "colorscale": {
           "sequential": [
            [
             0.0,
             "#0d0887"
            ],
            [
             0.1111111111111111,
             "#46039f"
            ],
            [
             0.2222222222222222,
             "#7201a8"
            ],
            [
             0.3333333333333333,
             "#9c179e"
            ],
            [
             0.4444444444444444,
             "#bd3786"
            ],
            [
             0.5555555555555556,
             "#d8576b"
            ],
            [
             0.6666666666666666,
             "#ed7953"
            ],
            [
             0.7777777777777778,
             "#fb9f3a"
            ],
            [
             0.8888888888888888,
             "#fdca26"
            ],
            [
             1.0,
             "#f0f921"
            ]
           ],
           "sequentialminus": [
            [
             0.0,
             "#0d0887"
            ],
            [
             0.1111111111111111,
             "#46039f"
            ],
            [
             0.2222222222222222,
             "#7201a8"
            ],
            [
             0.3333333333333333,
             "#9c179e"
            ],
            [
             0.4444444444444444,
             "#bd3786"
            ],
            [
             0.5555555555555556,
             "#d8576b"
            ],
            [
             0.6666666666666666,
             "#ed7953"
            ],
            [
             0.7777777777777778,
             "#fb9f3a"
            ],
            [
             0.8888888888888888,
             "#fdca26"
            ],
            [
             1.0,
             "#f0f921"
            ]
           ],
           "diverging": [
            [
             0,
             "#8e0152"
            ],
            [
             0.1,
             "#c51b7d"
            ],
            [
             0.2,
             "#de77ae"
            ],
            [
             0.3,
             "#f1b6da"
            ],
            [
             0.4,
             "#fde0ef"
            ],
            [
             0.5,
             "#f7f7f7"
            ],
            [
             0.6,
             "#e6f5d0"
            ],
            [
             0.7,
             "#b8e186"
            ],
            [
             0.8,
             "#7fbc41"
            ],
            [
             0.9,
             "#4d9221"
            ],
            [
             1,
             "#276419"
            ]
           ]
          },
          "xaxis": {
           "gridcolor": "#283442",
           "linecolor": "#506784",
           "ticks": "",
           "title": {
            "standoff": 15
           },
           "zerolinecolor": "#283442",
           "automargin": true,
           "zerolinewidth": 2
          },
          "yaxis": {
           "gridcolor": "#283442",
           "linecolor": "#506784",
           "ticks": "",
           "title": {
            "standoff": 15
           },
           "zerolinecolor": "#283442",
           "automargin": true,
           "zerolinewidth": 2
          },
          "scene": {
           "xaxis": {
            "backgroundcolor": "rgb(17,17,17)",
            "gridcolor": "#506784",
            "linecolor": "#506784",
            "showbackground": true,
            "ticks": "",
            "zerolinecolor": "#C8D4E3",
            "gridwidth": 2
           },
           "yaxis": {
            "backgroundcolor": "rgb(17,17,17)",
            "gridcolor": "#506784",
            "linecolor": "#506784",
            "showbackground": true,
            "ticks": "",
            "zerolinecolor": "#C8D4E3",
            "gridwidth": 2
           },
           "zaxis": {
            "backgroundcolor": "rgb(17,17,17)",
            "gridcolor": "#506784",
            "linecolor": "#506784",
            "showbackground": true,
            "ticks": "",
            "zerolinecolor": "#C8D4E3",
            "gridwidth": 2
           }
          },
          "shapedefaults": {
           "line": {
            "color": "#f2f5fa"
           }
          },
          "annotationdefaults": {
           "arrowcolor": "#f2f5fa",
           "arrowhead": 0,
           "arrowwidth": 1
          },
          "geo": {
           "bgcolor": "rgb(17,17,17)",
           "landcolor": "rgb(17,17,17)",
           "subunitcolor": "#506784",
           "showland": true,
           "showlakes": true,
           "lakecolor": "rgb(17,17,17)"
          },
          "title": {
           "x": 0.05
          },
          "updatemenudefaults": {
           "bgcolor": "#506784",
           "borderwidth": 0
          },
          "sliderdefaults": {
           "bgcolor": "#C8D4E3",
           "borderwidth": 1,
           "bordercolor": "rgb(17,17,17)",
           "tickwidth": 0
          },
          "mapbox": {
           "style": "dark"
          }
         }
        },
        "geo": {
         "domain": {
          "x": [
           0.0,
           1.0
          ],
          "y": [
           0.0,
           1.0
          ]
         },
         "center": {}
        },
        "coloraxis": {
         "colorbar": {
          "title": {
           "text": "Production de vin"
          }
         },
         "colorscale": [
          [
           0.0,
           "blue"
          ],
          [
           0.002,
           "lightblue"
          ],
          [
           0.1,
           "purple"
          ],
          [
           0.2,
           "pink"
          ],
          [
           0.4,
           "orange"
          ],
          [
           1.0,
           "yellow"
          ]
         ],
         "cmin": 0,
         "cmax": 5000000
        },
        "legend": {
         "tracegroupgap": 0
        },
        "title": {
         "text": "Production de vin par pays"
        }
       },
       "config": {
        "plotlyServerURL": "https://plot.ly"
       }
      },
      "text/html": [
       "<div>                            <div id=\"ebdf321e-1ebc-42b5-afeb-73828e5cab5d\" class=\"plotly-graph-div\" style=\"height:525px; width:100%;\"></div>            <script type=\"text/javascript\">                require([\"plotly\"], function(Plotly) {                    window.PLOTLYENV=window.PLOTLYENV || {};                                    if (document.getElementById(\"ebdf321e-1ebc-42b5-afeb-73828e5cab5d\")) {                    Plotly.newPlot(                        \"ebdf321e-1ebc-42b5-afeb-73828e5cab5d\",                        [{\"coloraxis\":\"coloraxis\",\"geo\":\"geo\",\"hovertemplate\":\"ADMIN=%{location}\\u003cbr\\u003eProduction de vin=%{z}\\u003cextra\\u003e\\u003c\\u002fextra\\u003e\",\"locationmode\":\"country names\",\"locations\":[\"Fiji\",\"United Republic of Tanzania\",\"Western Sahara\",\"Canada\",\"United States of America\",\"Kazakhstan\",\"Uzbekistan\",\"Papua New Guinea\",\"Indonesia\",\"Argentina\",\"Chile\",\"Democratic Republic of the Congo\",\"Somalia\",\"Kenya\",\"Sudan\",\"Chad\",\"Haiti\",\"Dominican Republic\",\"Russia\",\"The Bahamas\",\"Falkland Islands\",\"Norway\",\"Greenland\",\"French Southern and Antarctic Lands\",\"East Timor\",\"South Africa\",\"Lesotho\",\"Mexico\",\"Uruguay\",\"Brazil\",\"Bolivia\",\"Peru\",\"Colombia\",\"Panama\",\"Costa Rica\",\"Nicaragua\",\"Honduras\",\"El Salvador\",\"Guatemala\",\"Belize\",\"Venezuela\",\"Guyana\",\"Suriname\",\"France\",\"Ecuador\",\"Puerto Rico\",\"Jamaica\",\"Cuba\",\"Zimbabwe\",\"Botswana\",\"Namibia\",\"Senegal\",\"Mali\",\"Mauritania\",\"Benin\",\"Niger\",\"Nigeria\",\"Cameroon\",\"Togo\",\"Ghana\",\"Ivory Coast\",\"Guinea\",\"Guinea-Bissau\",\"Liberia\",\"Sierra Leone\",\"Burkina Faso\",\"Central African Republic\",\"Republic of the Congo\",\"Gabon\",\"Equatorial Guinea\",\"Zambia\",\"Malawi\",\"Mozambique\",\"eSwatini\",\"Angola\",\"Burundi\",\"Israel\",\"Lebanon\",\"Madagascar\",\"Palestine\",\"Gambia\",\"Tunisia\",\"Algeria\",\"Jordan\",\"United Arab Emirates\",\"Qatar\",\"Kuwait\",\"Iraq\",\"Oman\",\"Vanuatu\",\"Cambodia\",\"Thailand\",\"Laos\",\"Myanmar\",\"Vietnam\",\"North Korea\",\"South Korea\",\"Mongolia\",\"India\",\"Bangladesh\",\"Bhutan\",\"Nepal\",\"Pakistan\",\"Afghanistan\",\"Tajikistan\",\"Kyrgyzstan\",\"Turkmenistan\",\"Iran\",\"Syria\",\"Armenia\",\"Sweden\",\"Belarus\",\"Ukraine\",\"Poland\",\"Austria\",\"Hungary\",\"Moldova\",\"Romania\",\"Lithuania\",\"Latvia\",\"Estonia\",\"Germany\",\"Bulgaria\",\"Greece\",\"Turkey\",\"Albania\",\"Croatia\",\"Switzerland\",\"Luxembourg\",\"Belgium\",\"Netherlands\",\"Portugal\",\"Spain\",\"Ireland\",\"New Caledonia\",\"Solomon Islands\",\"New Zealand\",\"Australia\",\"Sri Lanka\",\"China\",\"Taiwan\",\"Italy\",\"Denmark\",\"United Kingdom\",\"Iceland\",\"Azerbaijan\",\"Georgia\",\"Philippines\",\"Malaysia\",\"Brunei\",\"Slovenia\",\"Finland\",\"Slovakia\",\"Czechia\",\"Eritrea\",\"Japan\",\"Paraguay\",\"Yemen\",\"Saudi Arabia\",\"Antarctica\",\"Northern Cyprus\",\"Cyprus\",\"Morocco\",\"Egypt\",\"Libya\",\"Ethiopia\",\"Djibouti\",\"Somaliland\",\"Uganda\",\"Rwanda\",\"Bosnia and Herzegovina\",\"North Macedonia\",\"Republic of Serbia\",\"Montenegro\",\"Kosovo\",\"Trinidad and Tobago\",\"South Sudan\"],\"name\":\"\",\"z\":[0.0,0.0,0.0,45402.0,1887700.0,21303.0,34772.35,0.0,0.0,1608826.0,553300.0,0.0,0.0,0.0,0.0,0.0,0.0,0.0,434500.0,0.0,600.0,0.0,0.0,5752370.0,0.0,770009.0,0.0,84834.04,82000.0,270000.0,2048.0,10584.0,0.0,151.0,0.0,0.0,0.0,0.0,0.0,0.0,0.0,0.0,0.0,5752370.0,0.0,1887700.0,0.0,0.0,1190.0,0.0,0.0,0.0,0.0,0.0,0.0,0.0,0.0,0.0,0.0,0.0,0.0,0.0,0.0,0.0,0.0,0.0,0.0,0.0,0.0,0.0,0.0,0.0,0.0,0.0,0.0,0.0,12200.0,9320.0,6100.0,12200.0,0.0,37221.0,87500.0,0.0,0.0,0.0,0.0,0.0,0.0,0.0,0.0,514.3499999999999,0.0,0.0,0.0,0.0,0.0,110.3,0.0,0.0,0.0,0.0,0.0,0.0,345.0,2056.2,39300.0,0.0,235.0,6307.0,0.0,20030.0,173500.0,0.0,247724.0,388002.0,160050.0,545700.0,4766.0,2200.0,0.0,888242.0,248046.0,400200.0,26724.0,15000.0,71650.0,104300.0,12429.5,3000.0,0.0,760000.0,3338800.0,0.0,5752370.0,0.0,47001.0,458501.0,0.0,309000.0,0.0,5927974.0,0.0,600.0,0.0,8564.0,90102.55,0.0,0.0,0.0,30279.5,0.0,36929.0,54600.0,0.0,56944.0,6000.0,0.0,0.0,0.0,0.0,41600.0,40808.03,2950.0,0.0,1070.68,0.0,0.0,0.0,0.0,5163.0,90838.5,0.0,14754.045,0.0,0.0,0.0],\"type\":\"choropleth\"}],                        {\"template\":{\"data\":{\"histogram2dcontour\":[{\"type\":\"histogram2dcontour\",\"colorbar\":{\"outlinewidth\":0,\"ticks\":\"\"},\"colorscale\":[[0.0,\"#0d0887\"],[0.1111111111111111,\"#46039f\"],[0.2222222222222222,\"#7201a8\"],[0.3333333333333333,\"#9c179e\"],[0.4444444444444444,\"#bd3786\"],[0.5555555555555556,\"#d8576b\"],[0.6666666666666666,\"#ed7953\"],[0.7777777777777778,\"#fb9f3a\"],[0.8888888888888888,\"#fdca26\"],[1.0,\"#f0f921\"]]}],\"choropleth\":[{\"type\":\"choropleth\",\"colorbar\":{\"outlinewidth\":0,\"ticks\":\"\"}}],\"histogram2d\":[{\"type\":\"histogram2d\",\"colorbar\":{\"outlinewidth\":0,\"ticks\":\"\"},\"colorscale\":[[0.0,\"#0d0887\"],[0.1111111111111111,\"#46039f\"],[0.2222222222222222,\"#7201a8\"],[0.3333333333333333,\"#9c179e\"],[0.4444444444444444,\"#bd3786\"],[0.5555555555555556,\"#d8576b\"],[0.6666666666666666,\"#ed7953\"],[0.7777777777777778,\"#fb9f3a\"],[0.8888888888888888,\"#fdca26\"],[1.0,\"#f0f921\"]]}],\"heatmap\":[{\"type\":\"heatmap\",\"colorbar\":{\"outlinewidth\":0,\"ticks\":\"\"},\"colorscale\":[[0.0,\"#0d0887\"],[0.1111111111111111,\"#46039f\"],[0.2222222222222222,\"#7201a8\"],[0.3333333333333333,\"#9c179e\"],[0.4444444444444444,\"#bd3786\"],[0.5555555555555556,\"#d8576b\"],[0.6666666666666666,\"#ed7953\"],[0.7777777777777778,\"#fb9f3a\"],[0.8888888888888888,\"#fdca26\"],[1.0,\"#f0f921\"]]}],\"heatmapgl\":[{\"type\":\"heatmapgl\",\"colorbar\":{\"outlinewidth\":0,\"ticks\":\"\"},\"colorscale\":[[0.0,\"#0d0887\"],[0.1111111111111111,\"#46039f\"],[0.2222222222222222,\"#7201a8\"],[0.3333333333333333,\"#9c179e\"],[0.4444444444444444,\"#bd3786\"],[0.5555555555555556,\"#d8576b\"],[0.6666666666666666,\"#ed7953\"],[0.7777777777777778,\"#fb9f3a\"],[0.8888888888888888,\"#fdca26\"],[1.0,\"#f0f921\"]]}],\"contourcarpet\":[{\"type\":\"contourcarpet\",\"colorbar\":{\"outlinewidth\":0,\"ticks\":\"\"}}],\"contour\":[{\"type\":\"contour\",\"colorbar\":{\"outlinewidth\":0,\"ticks\":\"\"},\"colorscale\":[[0.0,\"#0d0887\"],[0.1111111111111111,\"#46039f\"],[0.2222222222222222,\"#7201a8\"],[0.3333333333333333,\"#9c179e\"],[0.4444444444444444,\"#bd3786\"],[0.5555555555555556,\"#d8576b\"],[0.6666666666666666,\"#ed7953\"],[0.7777777777777778,\"#fb9f3a\"],[0.8888888888888888,\"#fdca26\"],[1.0,\"#f0f921\"]]}],\"surface\":[{\"type\":\"surface\",\"colorbar\":{\"outlinewidth\":0,\"ticks\":\"\"},\"colorscale\":[[0.0,\"#0d0887\"],[0.1111111111111111,\"#46039f\"],[0.2222222222222222,\"#7201a8\"],[0.3333333333333333,\"#9c179e\"],[0.4444444444444444,\"#bd3786\"],[0.5555555555555556,\"#d8576b\"],[0.6666666666666666,\"#ed7953\"],[0.7777777777777778,\"#fb9f3a\"],[0.8888888888888888,\"#fdca26\"],[1.0,\"#f0f921\"]]}],\"mesh3d\":[{\"type\":\"mesh3d\",\"colorbar\":{\"outlinewidth\":0,\"ticks\":\"\"}}],\"scatter\":[{\"marker\":{\"line\":{\"color\":\"#283442\"}},\"type\":\"scatter\"}],\"parcoords\":[{\"type\":\"parcoords\",\"line\":{\"colorbar\":{\"outlinewidth\":0,\"ticks\":\"\"}}}],\"scatterpolargl\":[{\"type\":\"scatterpolargl\",\"marker\":{\"colorbar\":{\"outlinewidth\":0,\"ticks\":\"\"}}}],\"bar\":[{\"error_x\":{\"color\":\"#f2f5fa\"},\"error_y\":{\"color\":\"#f2f5fa\"},\"marker\":{\"line\":{\"color\":\"rgb(17,17,17)\",\"width\":0.5},\"pattern\":{\"fillmode\":\"overlay\",\"size\":10,\"solidity\":0.2}},\"type\":\"bar\"}],\"scattergeo\":[{\"type\":\"scattergeo\",\"marker\":{\"colorbar\":{\"outlinewidth\":0,\"ticks\":\"\"}}}],\"scatterpolar\":[{\"type\":\"scatterpolar\",\"marker\":{\"colorbar\":{\"outlinewidth\":0,\"ticks\":\"\"}}}],\"histogram\":[{\"marker\":{\"pattern\":{\"fillmode\":\"overlay\",\"size\":10,\"solidity\":0.2}},\"type\":\"histogram\"}],\"scattergl\":[{\"marker\":{\"line\":{\"color\":\"#283442\"}},\"type\":\"scattergl\"}],\"scatter3d\":[{\"type\":\"scatter3d\",\"line\":{\"colorbar\":{\"outlinewidth\":0,\"ticks\":\"\"}},\"marker\":{\"colorbar\":{\"outlinewidth\":0,\"ticks\":\"\"}}}],\"scattermapbox\":[{\"type\":\"scattermapbox\",\"marker\":{\"colorbar\":{\"outlinewidth\":0,\"ticks\":\"\"}}}],\"scatterternary\":[{\"type\":\"scatterternary\",\"marker\":{\"colorbar\":{\"outlinewidth\":0,\"ticks\":\"\"}}}],\"scattercarpet\":[{\"type\":\"scattercarpet\",\"marker\":{\"colorbar\":{\"outlinewidth\":0,\"ticks\":\"\"}}}],\"carpet\":[{\"aaxis\":{\"endlinecolor\":\"#A2B1C6\",\"gridcolor\":\"#506784\",\"linecolor\":\"#506784\",\"minorgridcolor\":\"#506784\",\"startlinecolor\":\"#A2B1C6\"},\"baxis\":{\"endlinecolor\":\"#A2B1C6\",\"gridcolor\":\"#506784\",\"linecolor\":\"#506784\",\"minorgridcolor\":\"#506784\",\"startlinecolor\":\"#A2B1C6\"},\"type\":\"carpet\"}],\"table\":[{\"cells\":{\"fill\":{\"color\":\"#506784\"},\"line\":{\"color\":\"rgb(17,17,17)\"}},\"header\":{\"fill\":{\"color\":\"#2a3f5f\"},\"line\":{\"color\":\"rgb(17,17,17)\"}},\"type\":\"table\"}],\"barpolar\":[{\"marker\":{\"line\":{\"color\":\"rgb(17,17,17)\",\"width\":0.5},\"pattern\":{\"fillmode\":\"overlay\",\"size\":10,\"solidity\":0.2}},\"type\":\"barpolar\"}],\"pie\":[{\"automargin\":true,\"type\":\"pie\"}]},\"layout\":{\"autotypenumbers\":\"strict\",\"colorway\":[\"#636efa\",\"#EF553B\",\"#00cc96\",\"#ab63fa\",\"#FFA15A\",\"#19d3f3\",\"#FF6692\",\"#B6E880\",\"#FF97FF\",\"#FECB52\"],\"font\":{\"color\":\"#f2f5fa\"},\"hovermode\":\"closest\",\"hoverlabel\":{\"align\":\"left\"},\"paper_bgcolor\":\"rgb(17,17,17)\",\"plot_bgcolor\":\"rgb(17,17,17)\",\"polar\":{\"bgcolor\":\"rgb(17,17,17)\",\"angularaxis\":{\"gridcolor\":\"#506784\",\"linecolor\":\"#506784\",\"ticks\":\"\"},\"radialaxis\":{\"gridcolor\":\"#506784\",\"linecolor\":\"#506784\",\"ticks\":\"\"}},\"ternary\":{\"bgcolor\":\"rgb(17,17,17)\",\"aaxis\":{\"gridcolor\":\"#506784\",\"linecolor\":\"#506784\",\"ticks\":\"\"},\"baxis\":{\"gridcolor\":\"#506784\",\"linecolor\":\"#506784\",\"ticks\":\"\"},\"caxis\":{\"gridcolor\":\"#506784\",\"linecolor\":\"#506784\",\"ticks\":\"\"}},\"coloraxis\":{\"colorbar\":{\"outlinewidth\":0,\"ticks\":\"\"}},\"colorscale\":{\"sequential\":[[0.0,\"#0d0887\"],[0.1111111111111111,\"#46039f\"],[0.2222222222222222,\"#7201a8\"],[0.3333333333333333,\"#9c179e\"],[0.4444444444444444,\"#bd3786\"],[0.5555555555555556,\"#d8576b\"],[0.6666666666666666,\"#ed7953\"],[0.7777777777777778,\"#fb9f3a\"],[0.8888888888888888,\"#fdca26\"],[1.0,\"#f0f921\"]],\"sequentialminus\":[[0.0,\"#0d0887\"],[0.1111111111111111,\"#46039f\"],[0.2222222222222222,\"#7201a8\"],[0.3333333333333333,\"#9c179e\"],[0.4444444444444444,\"#bd3786\"],[0.5555555555555556,\"#d8576b\"],[0.6666666666666666,\"#ed7953\"],[0.7777777777777778,\"#fb9f3a\"],[0.8888888888888888,\"#fdca26\"],[1.0,\"#f0f921\"]],\"diverging\":[[0,\"#8e0152\"],[0.1,\"#c51b7d\"],[0.2,\"#de77ae\"],[0.3,\"#f1b6da\"],[0.4,\"#fde0ef\"],[0.5,\"#f7f7f7\"],[0.6,\"#e6f5d0\"],[0.7,\"#b8e186\"],[0.8,\"#7fbc41\"],[0.9,\"#4d9221\"],[1,\"#276419\"]]},\"xaxis\":{\"gridcolor\":\"#283442\",\"linecolor\":\"#506784\",\"ticks\":\"\",\"title\":{\"standoff\":15},\"zerolinecolor\":\"#283442\",\"automargin\":true,\"zerolinewidth\":2},\"yaxis\":{\"gridcolor\":\"#283442\",\"linecolor\":\"#506784\",\"ticks\":\"\",\"title\":{\"standoff\":15},\"zerolinecolor\":\"#283442\",\"automargin\":true,\"zerolinewidth\":2},\"scene\":{\"xaxis\":{\"backgroundcolor\":\"rgb(17,17,17)\",\"gridcolor\":\"#506784\",\"linecolor\":\"#506784\",\"showbackground\":true,\"ticks\":\"\",\"zerolinecolor\":\"#C8D4E3\",\"gridwidth\":2},\"yaxis\":{\"backgroundcolor\":\"rgb(17,17,17)\",\"gridcolor\":\"#506784\",\"linecolor\":\"#506784\",\"showbackground\":true,\"ticks\":\"\",\"zerolinecolor\":\"#C8D4E3\",\"gridwidth\":2},\"zaxis\":{\"backgroundcolor\":\"rgb(17,17,17)\",\"gridcolor\":\"#506784\",\"linecolor\":\"#506784\",\"showbackground\":true,\"ticks\":\"\",\"zerolinecolor\":\"#C8D4E3\",\"gridwidth\":2}},\"shapedefaults\":{\"line\":{\"color\":\"#f2f5fa\"}},\"annotationdefaults\":{\"arrowcolor\":\"#f2f5fa\",\"arrowhead\":0,\"arrowwidth\":1},\"geo\":{\"bgcolor\":\"rgb(17,17,17)\",\"landcolor\":\"rgb(17,17,17)\",\"subunitcolor\":\"#506784\",\"showland\":true,\"showlakes\":true,\"lakecolor\":\"rgb(17,17,17)\"},\"title\":{\"x\":0.05},\"updatemenudefaults\":{\"bgcolor\":\"#506784\",\"borderwidth\":0},\"sliderdefaults\":{\"bgcolor\":\"#C8D4E3\",\"borderwidth\":1,\"bordercolor\":\"rgb(17,17,17)\",\"tickwidth\":0},\"mapbox\":{\"style\":\"dark\"}}},\"geo\":{\"domain\":{\"x\":[0.0,1.0],\"y\":[0.0,1.0]},\"center\":{}},\"coloraxis\":{\"colorbar\":{\"title\":{\"text\":\"Production de vin\"}},\"colorscale\":[[0.0,\"blue\"],[0.002,\"lightblue\"],[0.1,\"purple\"],[0.2,\"pink\"],[0.4,\"orange\"],[1.0,\"yellow\"]],\"cmin\":0,\"cmax\":5000000},\"legend\":{\"tracegroupgap\":0},\"title\":{\"text\":\"Production de vin par pays\"}},                        {\"responsive\": true}                    ).then(function(){\n",
       "                            \n",
       "var gd = document.getElementById('ebdf321e-1ebc-42b5-afeb-73828e5cab5d');\n",
       "var x = new MutationObserver(function (mutations, observer) {{\n",
       "        var display = window.getComputedStyle(gd).display;\n",
       "        if (!display || display === 'none') {{\n",
       "            console.log([gd, 'removed!']);\n",
       "            Plotly.purge(gd);\n",
       "            observer.disconnect();\n",
       "        }}\n",
       "}});\n",
       "\n",
       "// Listen for the removal of the full notebook cells\n",
       "var notebookContainer = gd.closest('#notebook-container');\n",
       "if (notebookContainer) {{\n",
       "    x.observe(notebookContainer, {childList: true});\n",
       "}}\n",
       "\n",
       "// Listen for the clearing of the current output cell\n",
       "var outputEl = gd.closest('.output');\n",
       "if (outputEl) {{\n",
       "    x.observe(outputEl, {childList: true});\n",
       "}}\n",
       "\n",
       "                        })                };                });            </script>        </div>"
      ]
     },
     "metadata": {},
     "output_type": "display_data"
    }
   ],
   "execution_count": 49
  }
 ],
 "metadata": {
  "kernelspec": {
   "display_name": "Python 3",
   "language": "python",
   "name": "python3"
  },
  "language_info": {
   "codemirror_mode": {
    "name": "ipython",
    "version": 2
   },
   "file_extension": ".py",
   "mimetype": "text/x-python",
   "name": "python",
   "nbconvert_exporter": "python",
   "pygments_lexer": "ipython2",
   "version": "2.7.6"
  }
 },
 "nbformat": 4,
 "nbformat_minor": 5
}
